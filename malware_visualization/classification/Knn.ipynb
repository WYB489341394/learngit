{
 "cells": [
  {
   "cell_type": "code",
   "execution_count": 2,
   "metadata": {},
   "outputs": [
    {
     "data": {
      "text/plain": [
       "' Summary of the file.\\n\\n    功能：\\n        读取特征值文件和标签文件，通过交叉验证获得训练集和测试集，以KNN方法划分并获得准确率，通过混淆矩阵标示结果。\\n\\n    输出：\\n        结果的混淆矩阵，每次划分的准确率，十次的平均准确率\\n'"
      ]
     },
     "execution_count": 2,
     "metadata": {},
     "output_type": "execute_result"
    }
   ],
   "source": [
    "from sklearn.neighbors import KNeighborsClassifier\n",
    "from sklearn import model_selection\n",
    "from sklearn.model_selection import train_test_split\n",
    "from sklearn.metrics import confusion_matrix, classification_report, recall_score, precision_score\n",
    "from collections import Counter\n",
    "import pandas as pd\n",
    "import numpy as np\n",
    "''' Summary of the file.\n",
    "\n",
    "    功能：\n",
    "        读取特征值文件和标签文件，通过交叉验证获得训练集和测试集，以KNN方法划分并获得准确率，通过混淆矩阵标示结果。\n",
    "\n",
    "    输出：\n",
    "        结果的混淆矩阵，每次划分的准确率，十次的平均准确率\n",
    "'''\n",
    "\n"
   ]
  },
  {
   "cell_type": "code",
   "execution_count": 3,
   "metadata": {},
   "outputs": [
    {
     "ename": "FileNotFoundError",
     "evalue": "[Errno 2] File b'E:\\\\test\\\\process_lpb_block\\\\feature_train_full.csv' does not exist: b'E:\\\\test\\\\process_lpb_block\\\\feature_train_full.csv'",
     "output_type": "error",
     "traceback": [
      "\u001b[1;31m---------------------------------------------------------------------------\u001b[0m",
      "\u001b[1;31mFileNotFoundError\u001b[0m                         Traceback (most recent call last)",
      "\u001b[1;32m<ipython-input-3-521baa5afbd7>\u001b[0m in \u001b[0;36m<module>\u001b[1;34m\u001b[0m\n\u001b[0;32m      3\u001b[0m \u001b[1;33m\u001b[0m\u001b[0m\n\u001b[0;32m      4\u001b[0m \u001b[1;31m# LBP_block\u001b[0m\u001b[1;33m\u001b[0m\u001b[1;33m\u001b[0m\u001b[1;33m\u001b[0m\u001b[0m\n\u001b[1;32m----> 5\u001b[1;33m \u001b[0msubfeatures\u001b[0m\u001b[1;33m=\u001b[0m\u001b[0mpd\u001b[0m\u001b[1;33m.\u001b[0m\u001b[0mread_csv\u001b[0m\u001b[1;33m(\u001b[0m\u001b[1;34mr'E:\\test\\process_lpb_block\\feature_train_full.csv'\u001b[0m\u001b[1;33m,\u001b[0m\u001b[0mheader\u001b[0m\u001b[1;33m=\u001b[0m\u001b[1;32mNone\u001b[0m\u001b[1;33m)\u001b[0m\u001b[1;33m\u001b[0m\u001b[1;33m\u001b[0m\u001b[0m\n\u001b[0m\u001b[0;32m      6\u001b[0m \u001b[0mlabels\u001b[0m \u001b[1;33m=\u001b[0m \u001b[0mpd\u001b[0m\u001b[1;33m.\u001b[0m\u001b[0mread_csv\u001b[0m\u001b[1;33m(\u001b[0m\u001b[1;34mr'E:\\test\\process_lpb_block\\CNO_full.txt'\u001b[0m\u001b[1;33m,\u001b[0m\u001b[0mheader\u001b[0m\u001b[1;33m=\u001b[0m\u001b[1;32mNone\u001b[0m\u001b[1;33m)\u001b[0m\u001b[1;33m\u001b[0m\u001b[1;33m\u001b[0m\u001b[0m\n\u001b[0;32m      7\u001b[0m \u001b[1;33m\u001b[0m\u001b[0m\n",
      "\u001b[1;32mE:\\Anacondaa\\lib\\site-packages\\pandas\\io\\parsers.py\u001b[0m in \u001b[0;36mparser_f\u001b[1;34m(filepath_or_buffer, sep, delimiter, header, names, index_col, usecols, squeeze, prefix, mangle_dupe_cols, dtype, engine, converters, true_values, false_values, skipinitialspace, skiprows, skipfooter, nrows, na_values, keep_default_na, na_filter, verbose, skip_blank_lines, parse_dates, infer_datetime_format, keep_date_col, date_parser, dayfirst, iterator, chunksize, compression, thousands, decimal, lineterminator, quotechar, quoting, doublequote, escapechar, comment, encoding, dialect, tupleize_cols, error_bad_lines, warn_bad_lines, delim_whitespace, low_memory, memory_map, float_precision)\u001b[0m\n\u001b[0;32m    700\u001b[0m                     skip_blank_lines=skip_blank_lines)\n\u001b[0;32m    701\u001b[0m \u001b[1;33m\u001b[0m\u001b[0m\n\u001b[1;32m--> 702\u001b[1;33m         \u001b[1;32mreturn\u001b[0m \u001b[0m_read\u001b[0m\u001b[1;33m(\u001b[0m\u001b[0mfilepath_or_buffer\u001b[0m\u001b[1;33m,\u001b[0m \u001b[0mkwds\u001b[0m\u001b[1;33m)\u001b[0m\u001b[1;33m\u001b[0m\u001b[1;33m\u001b[0m\u001b[0m\n\u001b[0m\u001b[0;32m    703\u001b[0m \u001b[1;33m\u001b[0m\u001b[0m\n\u001b[0;32m    704\u001b[0m     \u001b[0mparser_f\u001b[0m\u001b[1;33m.\u001b[0m\u001b[0m__name__\u001b[0m \u001b[1;33m=\u001b[0m \u001b[0mname\u001b[0m\u001b[1;33m\u001b[0m\u001b[1;33m\u001b[0m\u001b[0m\n",
      "\u001b[1;32mE:\\Anacondaa\\lib\\site-packages\\pandas\\io\\parsers.py\u001b[0m in \u001b[0;36m_read\u001b[1;34m(filepath_or_buffer, kwds)\u001b[0m\n\u001b[0;32m    427\u001b[0m \u001b[1;33m\u001b[0m\u001b[0m\n\u001b[0;32m    428\u001b[0m     \u001b[1;31m# Create the parser.\u001b[0m\u001b[1;33m\u001b[0m\u001b[1;33m\u001b[0m\u001b[1;33m\u001b[0m\u001b[0m\n\u001b[1;32m--> 429\u001b[1;33m     \u001b[0mparser\u001b[0m \u001b[1;33m=\u001b[0m \u001b[0mTextFileReader\u001b[0m\u001b[1;33m(\u001b[0m\u001b[0mfilepath_or_buffer\u001b[0m\u001b[1;33m,\u001b[0m \u001b[1;33m**\u001b[0m\u001b[0mkwds\u001b[0m\u001b[1;33m)\u001b[0m\u001b[1;33m\u001b[0m\u001b[1;33m\u001b[0m\u001b[0m\n\u001b[0m\u001b[0;32m    430\u001b[0m \u001b[1;33m\u001b[0m\u001b[0m\n\u001b[0;32m    431\u001b[0m     \u001b[1;32mif\u001b[0m \u001b[0mchunksize\u001b[0m \u001b[1;32mor\u001b[0m \u001b[0miterator\u001b[0m\u001b[1;33m:\u001b[0m\u001b[1;33m\u001b[0m\u001b[1;33m\u001b[0m\u001b[0m\n",
      "\u001b[1;32mE:\\Anacondaa\\lib\\site-packages\\pandas\\io\\parsers.py\u001b[0m in \u001b[0;36m__init__\u001b[1;34m(self, f, engine, **kwds)\u001b[0m\n\u001b[0;32m    893\u001b[0m             \u001b[0mself\u001b[0m\u001b[1;33m.\u001b[0m\u001b[0moptions\u001b[0m\u001b[1;33m[\u001b[0m\u001b[1;34m'has_index_names'\u001b[0m\u001b[1;33m]\u001b[0m \u001b[1;33m=\u001b[0m \u001b[0mkwds\u001b[0m\u001b[1;33m[\u001b[0m\u001b[1;34m'has_index_names'\u001b[0m\u001b[1;33m]\u001b[0m\u001b[1;33m\u001b[0m\u001b[1;33m\u001b[0m\u001b[0m\n\u001b[0;32m    894\u001b[0m \u001b[1;33m\u001b[0m\u001b[0m\n\u001b[1;32m--> 895\u001b[1;33m         \u001b[0mself\u001b[0m\u001b[1;33m.\u001b[0m\u001b[0m_make_engine\u001b[0m\u001b[1;33m(\u001b[0m\u001b[0mself\u001b[0m\u001b[1;33m.\u001b[0m\u001b[0mengine\u001b[0m\u001b[1;33m)\u001b[0m\u001b[1;33m\u001b[0m\u001b[1;33m\u001b[0m\u001b[0m\n\u001b[0m\u001b[0;32m    896\u001b[0m \u001b[1;33m\u001b[0m\u001b[0m\n\u001b[0;32m    897\u001b[0m     \u001b[1;32mdef\u001b[0m \u001b[0mclose\u001b[0m\u001b[1;33m(\u001b[0m\u001b[0mself\u001b[0m\u001b[1;33m)\u001b[0m\u001b[1;33m:\u001b[0m\u001b[1;33m\u001b[0m\u001b[1;33m\u001b[0m\u001b[0m\n",
      "\u001b[1;32mE:\\Anacondaa\\lib\\site-packages\\pandas\\io\\parsers.py\u001b[0m in \u001b[0;36m_make_engine\u001b[1;34m(self, engine)\u001b[0m\n\u001b[0;32m   1120\u001b[0m     \u001b[1;32mdef\u001b[0m \u001b[0m_make_engine\u001b[0m\u001b[1;33m(\u001b[0m\u001b[0mself\u001b[0m\u001b[1;33m,\u001b[0m \u001b[0mengine\u001b[0m\u001b[1;33m=\u001b[0m\u001b[1;34m'c'\u001b[0m\u001b[1;33m)\u001b[0m\u001b[1;33m:\u001b[0m\u001b[1;33m\u001b[0m\u001b[1;33m\u001b[0m\u001b[0m\n\u001b[0;32m   1121\u001b[0m         \u001b[1;32mif\u001b[0m \u001b[0mengine\u001b[0m \u001b[1;33m==\u001b[0m \u001b[1;34m'c'\u001b[0m\u001b[1;33m:\u001b[0m\u001b[1;33m\u001b[0m\u001b[1;33m\u001b[0m\u001b[0m\n\u001b[1;32m-> 1122\u001b[1;33m             \u001b[0mself\u001b[0m\u001b[1;33m.\u001b[0m\u001b[0m_engine\u001b[0m \u001b[1;33m=\u001b[0m \u001b[0mCParserWrapper\u001b[0m\u001b[1;33m(\u001b[0m\u001b[0mself\u001b[0m\u001b[1;33m.\u001b[0m\u001b[0mf\u001b[0m\u001b[1;33m,\u001b[0m \u001b[1;33m**\u001b[0m\u001b[0mself\u001b[0m\u001b[1;33m.\u001b[0m\u001b[0moptions\u001b[0m\u001b[1;33m)\u001b[0m\u001b[1;33m\u001b[0m\u001b[1;33m\u001b[0m\u001b[0m\n\u001b[0m\u001b[0;32m   1123\u001b[0m         \u001b[1;32melse\u001b[0m\u001b[1;33m:\u001b[0m\u001b[1;33m\u001b[0m\u001b[1;33m\u001b[0m\u001b[0m\n\u001b[0;32m   1124\u001b[0m             \u001b[1;32mif\u001b[0m \u001b[0mengine\u001b[0m \u001b[1;33m==\u001b[0m \u001b[1;34m'python'\u001b[0m\u001b[1;33m:\u001b[0m\u001b[1;33m\u001b[0m\u001b[1;33m\u001b[0m\u001b[0m\n",
      "\u001b[1;32mE:\\Anacondaa\\lib\\site-packages\\pandas\\io\\parsers.py\u001b[0m in \u001b[0;36m__init__\u001b[1;34m(self, src, **kwds)\u001b[0m\n\u001b[0;32m   1851\u001b[0m         \u001b[0mkwds\u001b[0m\u001b[1;33m[\u001b[0m\u001b[1;34m'usecols'\u001b[0m\u001b[1;33m]\u001b[0m \u001b[1;33m=\u001b[0m \u001b[0mself\u001b[0m\u001b[1;33m.\u001b[0m\u001b[0musecols\u001b[0m\u001b[1;33m\u001b[0m\u001b[1;33m\u001b[0m\u001b[0m\n\u001b[0;32m   1852\u001b[0m \u001b[1;33m\u001b[0m\u001b[0m\n\u001b[1;32m-> 1853\u001b[1;33m         \u001b[0mself\u001b[0m\u001b[1;33m.\u001b[0m\u001b[0m_reader\u001b[0m \u001b[1;33m=\u001b[0m \u001b[0mparsers\u001b[0m\u001b[1;33m.\u001b[0m\u001b[0mTextReader\u001b[0m\u001b[1;33m(\u001b[0m\u001b[0msrc\u001b[0m\u001b[1;33m,\u001b[0m \u001b[1;33m**\u001b[0m\u001b[0mkwds\u001b[0m\u001b[1;33m)\u001b[0m\u001b[1;33m\u001b[0m\u001b[1;33m\u001b[0m\u001b[0m\n\u001b[0m\u001b[0;32m   1854\u001b[0m         \u001b[0mself\u001b[0m\u001b[1;33m.\u001b[0m\u001b[0munnamed_cols\u001b[0m \u001b[1;33m=\u001b[0m \u001b[0mself\u001b[0m\u001b[1;33m.\u001b[0m\u001b[0m_reader\u001b[0m\u001b[1;33m.\u001b[0m\u001b[0munnamed_cols\u001b[0m\u001b[1;33m\u001b[0m\u001b[1;33m\u001b[0m\u001b[0m\n\u001b[0;32m   1855\u001b[0m \u001b[1;33m\u001b[0m\u001b[0m\n",
      "\u001b[1;32mpandas/_libs/parsers.pyx\u001b[0m in \u001b[0;36mpandas._libs.parsers.TextReader.__cinit__\u001b[1;34m()\u001b[0m\n",
      "\u001b[1;32mpandas/_libs/parsers.pyx\u001b[0m in \u001b[0;36mpandas._libs.parsers.TextReader._setup_parser_source\u001b[1;34m()\u001b[0m\n",
      "\u001b[1;31mFileNotFoundError\u001b[0m: [Errno 2] File b'E:\\\\test\\\\process_lpb_block\\\\feature_train_full.csv' does not exist: b'E:\\\\test\\\\process_lpb_block\\\\feature_train_full.csv'"
     ]
    }
   ],
   "source": [
    "# 实验室的15000条恶意样本，分为十个家族\n",
    "\n",
    "\n",
    "# LBP_block\n",
    "subfeatures=pd.read_csv(r'E:\\test\\process_lpb_block\\feature_train_full.csv',header=None)\n",
    "labels = pd.read_csv(r'E:\\test\\process_lpb_block\\CNO_full.txt',header=None)\n",
    "\n",
    "# # LBP特征值\n",
    "# subfeatures=pd.read_csv(r'E:\\test\\process_lpb\\feature_train_full.csv',header=None)\n",
    "# labels = pd.read_csv(r'E:\\test\\process_lpb\\CNO_full.txt',header=None)\n",
    "\n",
    "'''\n",
    "# # GIST特征值\n",
    "subfeatures=pd.read_csv(r'E:\\test\\process_gist\\gist_f_train_full.csv',header=None)\n",
    "labels = pd.read_csv(r'E:\\test\\process_gist\\CNO_full.txt',header=None)\n",
    "'''\n",
    "# # text段代码提取二进制代码，生成图像的LBP特征\n",
    "# subfeatures=pd.read_csv('/home/stack/Data/Output/lbp_only_text/feature_train_full.csv',header=None)\n",
    "# labels = pd.read_csv('/home/stack/Data/Output/lbp_only_text/CNO_full.txt',header=None)\n",
    "\n",
    "# text段 GIST特征\n",
    "##subfeatures=pd.read_csv(r'E:\\test\\process_gist\\gist_f_train_full.csv',header=None)\n",
    "##labels = pd.read_csv(r'E:\\test\\process_gist\\CNO_full.txt',header=None)\n"
   ]
  },
  {
   "cell_type": "code",
   "execution_count": null,
   "metadata": {},
   "outputs": [],
   "source": [
    "#subfeatures.fillna('0')\n",
    "\n",
    "\n",
    "# 平均准确率归零\n",
    "avgscore = 0\n",
    "recallscore = 0\n",
    "precisionscore = 0\n",
    "N = 10\n",
    "\n",
    "\n"
   ]
  },
  {
   "cell_type": "code",
   "execution_count": null,
   "metadata": {},
   "outputs": [],
   "source": [
    "# 以10%的比例进行交叉验证\n",
    "#X_train, X_test, y_train, y_test = cross_validation.train_test_split(subfeatures, features_labels, test_size=0.1)\n",
    "X_train, X_test, y_train, y_test = train_test_split(subfeatures, labels, test_size=0.1)\n",
    "\n",
    "#print(y_train)\n",
    "\n",
    "\n"
   ]
  },
  {
   "cell_type": "code",
   "execution_count": null,
   "metadata": {},
   "outputs": [],
   "source": [
    "# 进行训练\n",
    "print('train...')\n",
    "# 进行KNN训练,距离为1\n",
    "neigh = KNeighborsClassifier(n_neighbors=1)\n",
    "neigh.fit(X_train, y_train)\n"
   ]
  },
  {
   "cell_type": "code",
   "execution_count": null,
   "metadata": {},
   "outputs": [],
   "source": [
    "# 预试\n",
    "print('test...')\n",
    "c_test = neigh.predict(X_test)\n",
    "\n",
    "#print(y_test)\n",
    "#print(c_test)"
   ]
  },
  {
   "cell_type": "code",
   "execution_count": 7,
   "metadata": {},
   "outputs": [
    {
     "name": "stdout",
     "output_type": "stream",
     "text": [
      "accurary...\n",
      "              precision    recall  f1-score   support\n",
      "\n",
      "           1       0.75      0.61      0.67       137\n",
      "           2       0.91      0.86      0.89       136\n",
      "           3       0.88      0.78      0.83       125\n",
      "           4       0.97      0.99      0.98       156\n",
      "           5       0.97      0.97      0.97       149\n",
      "           6       0.98      0.99      0.99       167\n",
      "           7       0.95      0.91      0.93       147\n",
      "           8       0.69      0.99      0.81       142\n",
      "           9       0.95      0.89      0.92       151\n",
      "          10       0.94      0.91      0.93       147\n",
      "\n",
      "   micro avg       0.90      0.90      0.90      1457\n",
      "   macro avg       0.90      0.89      0.89      1457\n",
      "weighted avg       0.90      0.90      0.90      1457\n",
      "\n",
      "0.8970487302676733\n"
     ]
    }
   ],
   "source": [
    "# 计算预测划分准确率\n",
    "print('accurary...')\n",
    "score = neigh.score(X_test, y_test)\n",
    "print(classification_report(y_test,c_test))\n",
    "avgscore = avgscore + score\n",
    "recallscore = recallscore + recall_score(y_test,c_test,average=\"macro\")\n",
    "precisionscore = precisionscore + precision_score(y_test,c_test,average=\"macro\")\n",
    "print(score)\n",
    "\n"
   ]
  },
  {
   "cell_type": "code",
   "execution_count": 8,
   "metadata": {},
   "outputs": [
    {
     "name": "stdout",
     "output_type": "stream",
     "text": [
      "Confusion matrix, without normalization\n",
      "[[ 83   5   5   0   1   0   6  30   3   4]\n",
      " [  4 117   2   0   0   0   0  13   0   0]\n",
      " [  8   2  98   0   1   0   0  13   1   2]\n",
      " [  0   0   0 155   0   0   0   0   1   0]\n",
      " [  2   0   0   0 145   2   0   0   0   0]\n",
      " [  1   0   0   0   0 166   0   0   0   0]\n",
      " [  3   2   3   0   1   0 134   3   1   0]\n",
      " [  1   0   0   0   0   0   0 141   0   0]\n",
      " [  5   1   3   4   1   1   0   0 134   2]\n",
      " [  3   1   1   0   1   0   1   5   1 134]]\n"
     ]
    }
   ],
   "source": [
    "# 通过混淆矩阵进行结果标示\n",
    "cm = confusion_matrix(y_test, c_test)\n",
    "np.set_printoptions(threshold=10000)\n",
    "np.set_printoptions(precision=2)\n",
    "print('Confusion matrix, without normalization')\n",
    "print(str(cm))\n"
   ]
  },
  {
   "cell_type": "code",
   "execution_count": null,
   "metadata": {},
   "outputs": [],
   "source": [
    "\n",
    "\n",
    "\n",
    "\n",
    "\n",
    "\n",
    "\n",
    "\n",
    "\n"
   ]
  },
  {
   "cell_type": "code",
   "execution_count": 9,
   "metadata": {},
   "outputs": [
    {
     "name": "stdout",
     "output_type": "stream",
     "text": [
      "train...\n"
     ]
    },
    {
     "name": "stderr",
     "output_type": "stream",
     "text": [
      "E:\\Anacondaa\\lib\\site-packages\\ipykernel_launcher.py:11: DataConversionWarning: A column-vector y was passed when a 1d array was expected. Please change the shape of y to (n_samples, ), for example using ravel().\n",
      "  # This is added back by InteractiveShellApp.init_path()\n"
     ]
    },
    {
     "name": "stdout",
     "output_type": "stream",
     "text": [
      "test...\n",
      "accurary...\n",
      "              precision    recall  f1-score   support\n",
      "\n",
      "           1       0.45      0.78      0.57       149\n",
      "           2       0.95      0.84      0.89       154\n",
      "           3       0.82      0.73      0.77       129\n",
      "           4       0.99      1.00      0.99       162\n",
      "           5       0.99      0.99      0.99       151\n",
      "           6       0.97      0.99      0.98       143\n",
      "           7       0.94      0.91      0.92       137\n",
      "           8       0.96      0.48      0.64       157\n",
      "           9       0.93      0.92      0.92       136\n",
      "          10       0.94      0.94      0.94       139\n",
      "\n",
      "   micro avg       0.86      0.86      0.86      1457\n",
      "   macro avg       0.89      0.86      0.86      1457\n",
      "weighted avg       0.89      0.86      0.86      1457\n",
      "\n",
      "0.8565545641729582\n",
      "Confusion matrix, without normalization\n",
      "[[116   1  12   0   1   2   6   2   4   5]\n",
      " [ 21 129   2   0   0   0   0   0   2   0]\n",
      " [ 26   5  94   0   0   0   0   1   3   0]\n",
      " [  0   0   0 162   0   0   0   0   0   0]\n",
      " [  2   0   0   0 149   0   0   0   0   0]\n",
      " [  0   0   1   0   0 142   0   0   0   0]\n",
      " [  9   0   2   0   0   1 124   0   1   0]\n",
      " [ 80   1   0   0   0   0   0  76   0   0]\n",
      " [  2   0   1   2   0   1   1   0 125   4]\n",
      " [  4   0   3   0   0   0   1   0   0 131]]\n",
      "train...\n"
     ]
    },
    {
     "name": "stderr",
     "output_type": "stream",
     "text": [
      "E:\\Anacondaa\\lib\\site-packages\\ipykernel_launcher.py:11: DataConversionWarning: A column-vector y was passed when a 1d array was expected. Please change the shape of y to (n_samples, ), for example using ravel().\n",
      "  # This is added back by InteractiveShellApp.init_path()\n"
     ]
    },
    {
     "name": "stdout",
     "output_type": "stream",
     "text": [
      "test...\n",
      "accurary...\n",
      "              precision    recall  f1-score   support\n",
      "\n",
      "           1       0.47      0.82      0.60       153\n",
      "           2       0.97      0.79      0.87       151\n",
      "           3       0.86      0.78      0.82       123\n",
      "           4       0.98      1.00      0.99       149\n",
      "           5       0.99      1.00      1.00       155\n",
      "           6       1.00      0.99      1.00       163\n",
      "           7       0.96      0.90      0.93       143\n",
      "           8       0.96      0.50      0.65       147\n",
      "           9       0.88      0.93      0.91       132\n",
      "          10       0.94      0.92      0.93       141\n",
      "\n",
      "   micro avg       0.87      0.87      0.87      1457\n",
      "   macro avg       0.90      0.86      0.87      1457\n",
      "weighted avg       0.90      0.87      0.87      1457\n",
      "\n",
      "0.8654770075497598\n",
      "Confusion matrix, without normalization\n",
      "[[126   4   8   0   1   0   2   1   6   5]\n",
      " [ 27 119   2   0   0   0   1   1   1   0]\n",
      " [ 17   0  96   0   0   0   2   1   6   1]\n",
      " [  0   0   0 149   0   0   0   0   0   0]\n",
      " [  0   0   0   0 155   0   0   0   0   0]\n",
      " [  1   0   0   0   0 162   0   0   0   0]\n",
      " [ 12   0   0   0   0   0 128   0   3   0]\n",
      " [ 72   0   2   0   0   0   0  73   0   0]\n",
      " [  4   0   0   3   0   0   0   0 123   2]\n",
      " [  8   0   3   0   0   0   0   0   0 130]]\n",
      "train...\n"
     ]
    },
    {
     "name": "stderr",
     "output_type": "stream",
     "text": [
      "E:\\Anacondaa\\lib\\site-packages\\ipykernel_launcher.py:11: DataConversionWarning: A column-vector y was passed when a 1d array was expected. Please change the shape of y to (n_samples, ), for example using ravel().\n",
      "  # This is added back by InteractiveShellApp.init_path()\n"
     ]
    },
    {
     "name": "stdout",
     "output_type": "stream",
     "text": [
      "test...\n",
      "accurary...\n",
      "              precision    recall  f1-score   support\n",
      "\n",
      "           1       0.78      0.64      0.70       151\n",
      "           2       0.94      0.81      0.87       176\n",
      "           3       0.75      0.79      0.77       100\n",
      "           4       0.97      0.99      0.98       148\n",
      "           5       0.98      0.99      0.99       139\n",
      "           6       0.99      1.00      1.00       147\n",
      "           7       0.89      0.89      0.89       142\n",
      "           8       0.74      1.00      0.85       152\n",
      "           9       0.97      0.88      0.92       145\n",
      "          10       0.94      0.94      0.94       157\n",
      "\n",
      "   micro avg       0.89      0.89      0.89      1457\n",
      "   macro avg       0.90      0.89      0.89      1457\n",
      "weighted avg       0.90      0.89      0.89      1457\n",
      "\n",
      "0.8943033630748113\n",
      "Confusion matrix, without normalization\n",
      "[[ 96   6  14   0   2   0   8  21   0   4]\n",
      " [  6 143   3   0   0   0   1  22   1   0]\n",
      " [  7   1  79   0   0   0   2   7   2   2]\n",
      " [  0   0   1 147   0   0   0   0   0   0]\n",
      " [  1   0   0   0 138   0   0   0   0   0]\n",
      " [  0   0   0   0   0 147   0   0   0   0]\n",
      " [  8   1   3   0   0   1 126   2   0   1]\n",
      " [  0   0   0   0   0   0   0 152   0   0]\n",
      " [  2   1   3   5   0   0   3   0 128   3]\n",
      " [  3   0   2   0   1   0   1   2   1 147]]\n",
      "train...\n"
     ]
    },
    {
     "name": "stderr",
     "output_type": "stream",
     "text": [
      "E:\\Anacondaa\\lib\\site-packages\\ipykernel_launcher.py:11: DataConversionWarning: A column-vector y was passed when a 1d array was expected. Please change the shape of y to (n_samples, ), for example using ravel().\n",
      "  # This is added back by InteractiveShellApp.init_path()\n"
     ]
    },
    {
     "name": "stdout",
     "output_type": "stream",
     "text": [
      "test...\n",
      "accurary...\n",
      "              precision    recall  f1-score   support\n",
      "\n",
      "           1       0.79      0.65      0.71       152\n",
      "           2       0.96      0.87      0.91       145\n",
      "           3       0.83      0.72      0.77       103\n",
      "           4       0.99      0.99      0.99       145\n",
      "           5       0.98      0.99      0.99       142\n",
      "           6       0.99      1.00      1.00       171\n",
      "           7       0.95      0.89      0.92       145\n",
      "           8       0.68      0.96      0.80       145\n",
      "           9       0.94      0.93      0.93       155\n",
      "          10       0.94      0.96      0.95       154\n",
      "\n",
      "   micro avg       0.90      0.90      0.90      1457\n",
      "   macro avg       0.91      0.90      0.90      1457\n",
      "weighted avg       0.91      0.90      0.90      1457\n",
      "\n",
      "0.9025394646533974\n",
      "Confusion matrix, without normalization\n",
      "[[ 99   1   5   0   2   0   1  37   3   4]\n",
      " [  3 126   1   0   0   0   1  14   0   0]\n",
      " [ 10   2  74   0   0   1   3  10   3   0]\n",
      " [  0   0   0 144   0   0   0   0   1   0]\n",
      " [  1   0   0   0 141   0   0   0   0   0]\n",
      " [  0   0   0   0   0 171   0   0   0   0]\n",
      " [  8   0   1   0   1   0 129   3   2   1]\n",
      " [  0   1   5   0   0   0   0 139   0   0]\n",
      " [  3   1   0   1   0   0   2   0 144   4]\n",
      " [  2   0   3   0   0   0   0   0   1 148]]\n",
      "train...\n"
     ]
    },
    {
     "name": "stderr",
     "output_type": "stream",
     "text": [
      "E:\\Anacondaa\\lib\\site-packages\\ipykernel_launcher.py:11: DataConversionWarning: A column-vector y was passed when a 1d array was expected. Please change the shape of y to (n_samples, ), for example using ravel().\n",
      "  # This is added back by InteractiveShellApp.init_path()\n"
     ]
    },
    {
     "name": "stdout",
     "output_type": "stream",
     "text": [
      "test...\n",
      "accurary...\n",
      "              precision    recall  f1-score   support\n",
      "\n",
      "           1       0.83      0.69      0.75       150\n",
      "           2       0.96      0.85      0.90       132\n",
      "           3       0.87      0.80      0.84       117\n",
      "           4       0.98      1.00      0.99       160\n",
      "           5       0.99      0.99      0.99       142\n",
      "           6       0.99      1.00      0.99       152\n",
      "           7       0.94      0.87      0.90       156\n",
      "           8       0.68      1.00      0.81       141\n",
      "           9       0.94      0.88      0.91       160\n",
      "          10       0.95      0.95      0.95       147\n",
      "\n",
      "   micro avg       0.91      0.91      0.91      1457\n",
      "   macro avg       0.91      0.90      0.90      1457\n",
      "weighted avg       0.91      0.91      0.91      1457\n",
      "\n",
      "0.9052848318462594\n",
      "Confusion matrix, without normalization\n",
      "[[103   3   7   0   0   0   2  30   1   4]\n",
      " [  3 112   0   0   0   0   0  17   0   0]\n",
      " [  7   0  94   0   0   1   1  12   2   0]\n",
      " [  0   0   0 160   0   0   0   0   0   0]\n",
      " [  0   0   0   0 141   0   0   0   1   0]\n",
      " [  0   0   0   0   0 152   0   0   0   0]\n",
      " [  5   1   6   0   2   1 136   2   3   0]\n",
      " [  0   0   0   0   0   0   0 141   0   0]\n",
      " [  2   1   1   3   0   0   6   2 141   4]\n",
      " [  4   0   0   0   0   0   0   2   2 139]]\n",
      "train...\n"
     ]
    },
    {
     "name": "stderr",
     "output_type": "stream",
     "text": [
      "E:\\Anacondaa\\lib\\site-packages\\ipykernel_launcher.py:11: DataConversionWarning: A column-vector y was passed when a 1d array was expected. Please change the shape of y to (n_samples, ), for example using ravel().\n",
      "  # This is added back by InteractiveShellApp.init_path()\n"
     ]
    },
    {
     "name": "stdout",
     "output_type": "stream",
     "text": [
      "test...\n",
      "accurary...\n",
      "              precision    recall  f1-score   support\n",
      "\n",
      "           1       0.46      0.85      0.60       136\n",
      "           2       0.98      0.83      0.90       146\n",
      "           3       0.90      0.73      0.80       131\n",
      "           4       0.98      1.00      0.99       160\n",
      "           5       0.98      1.00      0.99       154\n",
      "           6       0.98      0.99      0.99       166\n",
      "           7       0.94      0.91      0.92       149\n",
      "           8       0.89      0.48      0.62       138\n",
      "           9       0.93      0.89      0.91       141\n",
      "          10       0.93      0.93      0.93       136\n",
      "\n",
      "   micro avg       0.87      0.87      0.87      1457\n",
      "   macro avg       0.90      0.86      0.87      1457\n",
      "weighted avg       0.90      0.87      0.87      1457\n",
      "\n",
      "0.8675360329444063\n",
      "Confusion matrix, without normalization\n",
      "[[115   2   5   0   1   1   2   2   3   5]\n",
      " [ 20 121   1   0   0   0   1   3   0   0]\n",
      " [ 23   0  95   0   2   2   2   2   2   3]\n",
      " [  0   0   0 160   0   0   0   0   0   0]\n",
      " [  0   0   0   0 154   0   0   0   0   0]\n",
      " [  0   0   0   0   0 165   0   0   0   1]\n",
      " [  9   0   1   0   0   0 135   1   3   0]\n",
      " [ 72   0   0   0   0   0   0  66   0   0]\n",
      " [  5   1   1   3   0   1   3   0 126   1]\n",
      " [  5   0   3   0   0   0   0   0   1 127]]\n",
      "train...\n"
     ]
    },
    {
     "name": "stderr",
     "output_type": "stream",
     "text": [
      "E:\\Anacondaa\\lib\\site-packages\\ipykernel_launcher.py:11: DataConversionWarning: A column-vector y was passed when a 1d array was expected. Please change the shape of y to (n_samples, ), for example using ravel().\n",
      "  # This is added back by InteractiveShellApp.init_path()\n"
     ]
    },
    {
     "name": "stdout",
     "output_type": "stream",
     "text": [
      "test...\n",
      "accurary...\n",
      "              precision    recall  f1-score   support\n",
      "\n",
      "           1       0.83      0.61      0.70       161\n",
      "           2       0.95      0.88      0.91       169\n",
      "           3       0.86      0.77      0.81       110\n",
      "           4       0.97      0.99      0.98       145\n",
      "           5       0.98      1.00      0.99       155\n",
      "           6       0.99      0.98      0.98       144\n",
      "           7       0.93      0.92      0.92       153\n",
      "           8       0.65      1.00      0.79       129\n",
      "           9       0.93      0.88      0.90       134\n",
      "          10       0.92      0.93      0.92       157\n",
      "\n",
      "   micro avg       0.90      0.90      0.90      1457\n",
      "   macro avg       0.90      0.90      0.89      1457\n",
      "weighted avg       0.91      0.90      0.89      1457\n",
      "\n",
      "0.8956760466712422\n",
      "Confusion matrix, without normalization\n",
      "[[ 98   3  10   0   1   0   5  31   4   9]\n",
      " [  5 148   0   0   0   0   1  15   0   0]\n",
      " [  5   3  85   0   1   0   3  11   1   1]\n",
      " [  0   0   0 144   0   0   0   0   1   0]\n",
      " [  0   0   0   0 155   0   0   0   0   0]\n",
      " [  1   0   1   0   1 141   0   0   0   0]\n",
      " [  5   1   2   0   0   0 141   1   2   1]\n",
      " [  0   0   0   0   0   0   0 129   0   0]\n",
      " [  1   0   0   5   0   1   2   5 118   2]\n",
      " [  3   0   1   0   0   1   0   5   1 146]]\n",
      "train...\n"
     ]
    },
    {
     "name": "stderr",
     "output_type": "stream",
     "text": [
      "E:\\Anacondaa\\lib\\site-packages\\ipykernel_launcher.py:11: DataConversionWarning: A column-vector y was passed when a 1d array was expected. Please change the shape of y to (n_samples, ), for example using ravel().\n",
      "  # This is added back by InteractiveShellApp.init_path()\n"
     ]
    },
    {
     "name": "stdout",
     "output_type": "stream",
     "text": [
      "test...\n",
      "accurary...\n",
      "              precision    recall  f1-score   support\n",
      "\n",
      "           1       0.78      0.65      0.71       147\n",
      "           2       0.94      0.83      0.88       138\n",
      "           3       0.83      0.77      0.80       125\n",
      "           4       0.99      0.99      0.99       128\n",
      "           5       0.99      0.99      0.99       171\n",
      "           6       0.99      0.98      0.98       134\n",
      "           7       0.91      0.89      0.90       138\n",
      "           8       0.96      0.53      0.68       149\n",
      "           9       0.95      0.90      0.93       176\n",
      "          10       0.51      0.95      0.66       151\n",
      "\n",
      "   micro avg       0.85      0.85      0.85      1457\n",
      "   macro avg       0.89      0.85      0.85      1457\n",
      "weighted avg       0.89      0.85      0.85      1457\n",
      "\n",
      "0.849691146190803\n",
      "Confusion matrix, without normalization\n",
      "[[ 95   2   8   0   0   0   4   1   2  35]\n",
      " [  4 114   0   0   0   0   1   1   0  18]\n",
      " [  9   2  96   0   1   0   1   1   2  13]\n",
      " [  0   0   0 127   0   0   1   0   0   0]\n",
      " [  0   0   0   0 170   0   0   0   0   1]\n",
      " [  0   0   2   0   0 131   0   0   0   1]\n",
      " [  6   2   4   0   0   0 123   0   3   0]\n",
      " [  0   0   0   0   0   0   0  79   0  70]\n",
      " [  4   1   3   1   0   1   5   0 159   2]\n",
      " [  4   0   2   0   0   0   0   0   1 144]]\n",
      "train...\n"
     ]
    },
    {
     "name": "stderr",
     "output_type": "stream",
     "text": [
      "E:\\Anacondaa\\lib\\site-packages\\ipykernel_launcher.py:11: DataConversionWarning: A column-vector y was passed when a 1d array was expected. Please change the shape of y to (n_samples, ), for example using ravel().\n",
      "  # This is added back by InteractiveShellApp.init_path()\n"
     ]
    },
    {
     "name": "stdout",
     "output_type": "stream",
     "text": [
      "test...\n",
      "accurary...\n",
      "              precision    recall  f1-score   support\n",
      "\n",
      "           1       0.86      0.62      0.72       152\n",
      "           2       0.97      0.80      0.88       153\n",
      "           3       0.81      0.79      0.80       120\n",
      "           4       0.98      1.00      0.99       163\n",
      "           5       0.98      0.99      0.99       122\n",
      "           6       0.99      1.00      0.99       160\n",
      "           7       0.94      0.90      0.92       169\n",
      "           8       0.66      0.99      0.79       149\n",
      "           9       0.92      0.89      0.91       130\n",
      "          10       0.95      0.96      0.96       139\n",
      "\n",
      "   micro avg       0.90      0.90      0.90      1457\n",
      "   macro avg       0.91      0.90      0.89      1457\n",
      "weighted avg       0.91      0.90      0.90      1457\n",
      "\n",
      "0.8963623884694578\n",
      "Confusion matrix, without normalization\n",
      "[[ 94   2  11   0   2   0   6  30   4   3]\n",
      " [  4 123   0   0   0   0   0  24   1   1]\n",
      " [  6   1  95   0   0   1   3  10   3   1]\n",
      " [  0   0   0 163   0   0   0   0   0   0]\n",
      " [  0   0   0   0 121   1   0   0   0   0]\n",
      " [  0   0   0   0   0 160   0   0   0   0]\n",
      " [  2   0   7   1   0   0 152   5   2   0]\n",
      " [  0   1   0   0   0   0   0 148   0   0]\n",
      " [  3   0   1   2   0   0   0   6 116   2]\n",
      " [  0   0   4   0   0   0   0   1   0 134]]\n",
      "train...\n"
     ]
    },
    {
     "name": "stderr",
     "output_type": "stream",
     "text": [
      "E:\\Anacondaa\\lib\\site-packages\\ipykernel_launcher.py:11: DataConversionWarning: A column-vector y was passed when a 1d array was expected. Please change the shape of y to (n_samples, ), for example using ravel().\n",
      "  # This is added back by InteractiveShellApp.init_path()\n"
     ]
    },
    {
     "name": "stdout",
     "output_type": "stream",
     "text": [
      "test...\n",
      "accurary...\n",
      "              precision    recall  f1-score   support\n",
      "\n",
      "           1       0.78      0.65      0.71       145\n",
      "           2       0.97      0.80      0.88       158\n",
      "           3       0.84      0.76      0.80        99\n",
      "           4       0.98      1.00      0.99       158\n",
      "           5       0.99      0.99      0.99       149\n",
      "           6       0.98      0.99      0.99       141\n",
      "           7       0.94      0.93      0.93       161\n",
      "           8       0.67      0.99      0.80       134\n",
      "           9       0.95      0.90      0.93       153\n",
      "          10       0.91      0.92      0.92       159\n",
      "\n",
      "   micro avg       0.90      0.90      0.90      1457\n",
      "   macro avg       0.90      0.89      0.89      1457\n",
      "weighted avg       0.91      0.90      0.90      1457\n",
      "\n",
      "0.8984214138641043\n",
      "Confusion matrix, without normalization\n",
      "[[ 94   2   5   0   0   0   4  32   2   6]\n",
      " [  9 127   1   0   0   0   0  20   0   1]\n",
      " [  6   0  75   0   0   1   3   8   3   3]\n",
      " [  0   0   0 158   0   0   0   0   0   0]\n",
      " [  1   0   0   0 148   0   0   0   0   0]\n",
      " [  0   0   0   0   0 140   0   0   0   1]\n",
      " [  4   1   4   0   0   0 149   2   1   0]\n",
      " [  1   0   0   0   0   0   0 133   0   0]\n",
      " [  4   1   1   3   0   0   1   1 138   4]\n",
      " [  2   0   3   0   1   2   1   2   1 147]]\n"
     ]
    }
   ],
   "source": [
    "# 进行十次KNN测试\n",
    "for i in range(N):\n",
    "    # 以10%的比例进行交叉验证\n",
    "    #X_train, X_test, y_train, y_test = cross_validation.train_test_split(subfeatures, features_labels, test_size=0.1)\n",
    "    X_train, X_test, y_train, y_test = train_test_split(subfeatures, labels, test_size=0.1)\n",
    "\n",
    "    # 进行训练\n",
    "    print('train...')\n",
    "    # 进行KNN训练,距离为1\n",
    "    neigh = KNeighborsClassifier(n_neighbors=1)\n",
    "    neigh.fit(X_train, y_train)\n",
    "\n",
    "    # 预试\n",
    "    print('test...')\n",
    "    c_test = neigh.predict(X_test)\n",
    "\n",
    "    # print(y_test)\n",
    "    # print(c_test)\n",
    "\n",
    "    # 计算预测划分准确率\n",
    "    print('accurary...')\n",
    "    score = neigh.score(X_test, y_test)\n",
    "    print(classification_report(y_test,c_test))\n",
    "    avgscore = avgscore + score\n",
    "    recallscore = recallscore + recall_score(y_test,c_test,average=\"macro\")\n",
    "    precisionscore = precisionscore + precision_score(y_test,c_test,average=\"macro\")\n",
    "    print(score)\n",
    "\n",
    "    # 通过混淆矩阵进行结果标示\n",
    "    cm = confusion_matrix(y_test, c_test)\n",
    "    np.set_printoptions(threshold=10000)\n",
    "    np.set_printoptions(precision=2)\n",
    "    print('Confusion matrix, without normalization\\n')\n",
    "    print(str(cm))\n"
   ]
  },
  {
   "cell_type": "code",
   "execution_count": 10,
   "metadata": {},
   "outputs": [
    {
     "name": "stdout",
     "output_type": "stream",
     "text": [
      "avgscore....\n",
      "0.9728894989704873\n",
      "False positive rate\n",
      "0.009901211845874003\n",
      "false negative rate\n",
      "0.03009934945647963\n"
     ]
    }
   ],
   "source": [
    "# 输出N次的平均准确率\n",
    "avgscore = avgscore / N\n",
    "recallscore = recallscore / N\n",
    "precisionscore = precisionscore / N\n",
    "\n",
    "print('avgscore....')\n",
    "print(avgscore)\n",
    "print('False positive rate')\n",
    "print(1-precisionscore)\n",
    "print('false negative rate')\n",
    "print(1-recallscore)"
   ]
  },
  {
   "cell_type": "code",
   "execution_count": null,
   "metadata": {},
   "outputs": [],
   "source": []
  }
 ],
 "metadata": {
  "kernelspec": {
   "display_name": "Python 3",
   "language": "python",
   "name": "python3"
  },
  "language_info": {
   "codemirror_mode": {
    "name": "ipython",
    "version": 3
   },
   "file_extension": ".py",
   "mimetype": "text/x-python",
   "name": "python",
   "nbconvert_exporter": "python",
   "pygments_lexer": "ipython3",
   "version": "3.7.3"
  }
 },
 "nbformat": 4,
 "nbformat_minor": 2
}
