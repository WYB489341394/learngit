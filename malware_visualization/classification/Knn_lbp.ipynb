{
 "cells": [
  {
   "cell_type": "code",
   "execution_count": 29,
   "metadata": {},
   "outputs": [
    {
     "data": {
      "text/plain": [
       "' Summary of the file.\\n\\n    功能：\\n        读取特征值文件和标签文件，通过交叉验证获得训练集和测试集，以KNN方法划分并获得准确率，通过混淆矩阵标示结果。\\n\\n    输出：\\n        结果的混淆矩阵，每次划分的准确率，十次的平均准确率\\n'"
      ]
     },
     "execution_count": 29,
     "metadata": {},
     "output_type": "execute_result"
    }
   ],
   "source": [
    "from sklearn.neighbors import KNeighborsClassifier\n",
    "from sklearn import model_selection\n",
    "from sklearn.model_selection import train_test_split\n",
    "from sklearn.metrics import confusion_matrix, classification_report, recall_score, precision_score\n",
    "from collections import Counter\n",
    "import pandas as pd\n",
    "import numpy as np\n",
    "''' Summary of the file.\n",
    "\n",
    "    功能：\n",
    "        读取特征值文件和标签文件，通过交叉验证获得训练集和测试集，以KNN方法划分并获得准确率，通过混淆矩阵标示结果。\n",
    "\n",
    "    输出：\n",
    "        结果的混淆矩阵，每次划分的准确率，十次的平均准确率\n",
    "'''\n",
    "\n"
   ]
  },
  {
   "cell_type": "code",
   "execution_count": 30,
   "metadata": {},
   "outputs": [
    {
     "data": {
      "text/plain": [
       "\"\\n# # GIST特征值\\nsubfeatures=pd.read_csv(r'E:\\test\\\\process_gist\\\\gist_f_train_full.csv',header=None)\\nlabels = pd.read_csv(r'E:\\test\\\\process_gist\\\\CNO_full.txt',header=None)\\n\""
      ]
     },
     "execution_count": 30,
     "metadata": {},
     "output_type": "execute_result"
    }
   ],
   "source": [
    "# 实验室的15000条恶意样本，分为十个家族\n",
    "# # LBP特征值\n",
    "subfeatures=pd.read_csv(r'E:\\test\\process_lpb\\feature_train_full.csv',header=None)\n",
    "labels = pd.read_csv(r'E:\\test\\process_lpb\\CNO_full.txt',header=None)\n",
    "\n",
    "'''\n",
    "# # GIST特征值\n",
    "subfeatures=pd.read_csv(r'E:\\test\\process_gist\\gist_f_train_full.csv',header=None)\n",
    "labels = pd.read_csv(r'E:\\test\\process_gist\\CNO_full.txt',header=None)\n",
    "'''\n",
    "# # text段代码提取二进制代码，生成图像的LBP特征\n",
    "# subfeatures=pd.read_csv('/home/stack/Data/Output/lbp_only_text/feature_train_full.csv',header=None)\n",
    "# labels = pd.read_csv('/home/stack/Data/Output/lbp_only_text/CNO_full.txt',header=None)\n",
    "\n",
    "# text段 GIST特征\n",
    "##subfeatures=pd.read_csv(r'E:\\test\\process_gist\\gist_f_train_full.csv',header=None)\n",
    "##labels = pd.read_csv(r'E:\\test\\process_gist\\CNO_full.txt',header=None)\n"
   ]
  },
  {
   "cell_type": "code",
   "execution_count": 31,
   "metadata": {},
   "outputs": [
    {
     "data": {
      "text/plain": [
       "\"\\n# 对全0行进行清除\\nresult = pd.concat([subfeatures, labels], axis=1,ignore_index=True)\\n'''\\nprint(result)\\nprint(result.apply(lambda x: x.sum(), axis=1))\\nprint(labels.apply(lambda x: x.sum(), axis=1))\\nprint(labels.apply(lambda x: x.sum(), axis=1)==result.apply(lambda x: x.sum(), axis=1))\\n'''\\nlist=[]\\nQ = result.apply(lambda x: x.sum(), axis=1)\\nW = labels.apply(lambda x: x.sum(), axis=1)\\nfor t in range(len(result)):\\n    if Q[t]==W[t]:\\n        list.append(t)\\nprint(list,len(list))  #打印出全零行的标号和个数\\nresult=result.drop(labels=list,axis=0)\\n\\nsubfeatures=result.iloc[:,:-1]\\nlabels=result.iloc[:,-1]\\n\""
      ]
     },
     "execution_count": 31,
     "metadata": {},
     "output_type": "execute_result"
    }
   ],
   "source": [
    "\"\"\"\n",
    "# 对全0行进行清除\n",
    "result = pd.concat([subfeatures, labels], axis=1,ignore_index=True)\n",
    "'''\n",
    "print(result)\n",
    "print(result.apply(lambda x: x.sum(), axis=1))\n",
    "print(labels.apply(lambda x: x.sum(), axis=1))\n",
    "print(labels.apply(lambda x: x.sum(), axis=1)==result.apply(lambda x: x.sum(), axis=1))\n",
    "'''\n",
    "list=[]\n",
    "Q = result.apply(lambda x: x.sum(), axis=1)\n",
    "W = labels.apply(lambda x: x.sum(), axis=1)\n",
    "for t in range(len(result)):\n",
    "    if Q[t]==W[t]:\n",
    "        list.append(t)\n",
    "print(list,len(list))  #打印出全零行的标号和个数\n",
    "result=result.drop(labels=list,axis=0)\n",
    "\n",
    "subfeatures=result.iloc[:,:-1]\n",
    "labels=result.iloc[:,-1]\n",
    "\"\"\""
   ]
  },
  {
   "cell_type": "code",
   "execution_count": 32,
   "metadata": {},
   "outputs": [],
   "source": [
    "#subfeatures.fillna('0')\n",
    "\n",
    "\n",
    "# 平均准确率归零\n",
    "avgscore = 0\n",
    "recallscore = 0\n",
    "precisionscore = 0\n",
    "N = 10\n",
    "\n",
    "\n"
   ]
  },
  {
   "cell_type": "code",
   "execution_count": 33,
   "metadata": {},
   "outputs": [
    {
     "name": "stdout",
     "output_type": "stream",
     "text": [
      "train...\n"
     ]
    },
    {
     "name": "stderr",
     "output_type": "stream",
     "text": [
      "E:\\Anacondaa\\lib\\site-packages\\ipykernel_launcher.py:11: DataConversionWarning: A column-vector y was passed when a 1d array was expected. Please change the shape of y to (n_samples, ), for example using ravel().\n",
      "  # This is added back by InteractiveShellApp.init_path()\n"
     ]
    },
    {
     "name": "stdout",
     "output_type": "stream",
     "text": [
      "test...\n",
      "accurary...\n",
      "              precision    recall  f1-score   support\n",
      "\n",
      "           1       0.75      0.61      0.67       146\n",
      "           2       0.98      0.85      0.91       167\n",
      "           3       0.85      0.81      0.83       108\n",
      "           4       0.98      1.00      0.99       152\n",
      "           5       0.99      0.99      0.99       149\n",
      "           6       0.99      1.00      0.99       144\n",
      "           7       0.95      0.89      0.92       159\n",
      "           8       0.67      1.00      0.80       138\n",
      "           9       0.94      0.89      0.91       161\n",
      "          10       0.93      0.94      0.94       133\n",
      "\n",
      "   micro avg       0.90      0.90      0.90      1457\n",
      "   macro avg       0.90      0.90      0.90      1457\n",
      "weighted avg       0.91      0.90      0.90      1457\n",
      "\n",
      "0.8997940974605353\n",
      "Confusion matrix, without normalization\n",
      "\n",
      "[[ 89   3   8   0   0   0   4  36   3   3]\n",
      " [  8 142   2   0   0   0   0  15   0   0]\n",
      " [  4   0  88   0   0   0   3   7   5   1]\n",
      " [  0   0   0 152   0   0   0   0   0   0]\n",
      " [  1   0   0   0 148   0   0   0   0   0]\n",
      " [  0   0   0   0   0 144   0   0   0   0]\n",
      " [  8   0   3   0   1   0 142   4   1   0]\n",
      " [  0   0   0   0   0   0   0 138   0   0]\n",
      " [  5   0   1   3   0   1   1   2 143   5]\n",
      " [  3   0   1   0   0   1   0   3   0 125]]\n",
      "train...\n"
     ]
    },
    {
     "name": "stderr",
     "output_type": "stream",
     "text": [
      "E:\\Anacondaa\\lib\\site-packages\\ipykernel_launcher.py:11: DataConversionWarning: A column-vector y was passed when a 1d array was expected. Please change the shape of y to (n_samples, ), for example using ravel().\n",
      "  # This is added back by InteractiveShellApp.init_path()\n"
     ]
    },
    {
     "name": "stdout",
     "output_type": "stream",
     "text": [
      "test...\n",
      "accurary...\n",
      "              precision    recall  f1-score   support\n",
      "\n",
      "           1       0.78      0.54      0.64       155\n",
      "           2       0.90      0.85      0.87       144\n",
      "           3       0.81      0.72      0.76       120\n",
      "           4       1.00      0.99      1.00       145\n",
      "           5       0.99      0.99      0.99       139\n",
      "           6       1.00      0.99      1.00       150\n",
      "           7       0.91      0.91      0.91       148\n",
      "           8       0.67      1.00      0.80       154\n",
      "           9       0.95      0.93      0.94       157\n",
      "          10       0.91      0.92      0.92       145\n",
      "\n",
      "   micro avg       0.89      0.89      0.89      1457\n",
      "   macro avg       0.89      0.88      0.88      1457\n",
      "weighted avg       0.89      0.89      0.88      1457\n",
      "\n",
      "0.8853809196980096\n",
      "Confusion matrix, without normalization\n",
      "\n",
      "[[ 83  11   6   0   1   0   6  37   4   7]\n",
      " [  1 122   4   0   0   0   0  17   0   0]\n",
      " [  9   1  86   0   0   0   5  12   4   3]\n",
      " [  1   0   0 144   0   0   0   0   0   0]\n",
      " [  1   0   0   0 138   0   0   0   0   0]\n",
      " [  0   0   0   0   0 149   0   0   0   1]\n",
      " [  6   1   3   0   0   0 134   4   0   0]\n",
      " [  0   0   0   0   0   0   0 154   0   0]\n",
      " [  1   0   4   0   0   0   3   1 146   2]\n",
      " [  4   0   3   0   0   0   0   4   0 134]]\n",
      "train...\n"
     ]
    },
    {
     "name": "stderr",
     "output_type": "stream",
     "text": [
      "E:\\Anacondaa\\lib\\site-packages\\ipykernel_launcher.py:11: DataConversionWarning: A column-vector y was passed when a 1d array was expected. Please change the shape of y to (n_samples, ), for example using ravel().\n",
      "  # This is added back by InteractiveShellApp.init_path()\n"
     ]
    },
    {
     "name": "stdout",
     "output_type": "stream",
     "text": [
      "test...\n",
      "accurary...\n",
      "              precision    recall  f1-score   support\n",
      "\n",
      "           1       0.79      0.64      0.71       141\n",
      "           2       0.96      0.88      0.92       171\n",
      "           3       0.80      0.71      0.76       104\n",
      "           4       0.97      0.98      0.98       129\n",
      "           5       0.99      0.99      0.99       161\n",
      "           6       0.99      0.99      0.99       145\n",
      "           7       0.90      0.91      0.90       153\n",
      "           8       0.76      1.00      0.86       167\n",
      "           9       0.94      0.91      0.93       151\n",
      "          10       0.93      0.95      0.94       135\n",
      "\n",
      "   micro avg       0.90      0.90      0.90      1457\n",
      "   macro avg       0.90      0.90      0.90      1457\n",
      "weighted avg       0.91      0.90      0.90      1457\n",
      "\n",
      "0.9032258064516129\n",
      "Confusion matrix, without normalization\n",
      "\n",
      "[[ 90   6   6   0   1   0   6  25   4   3]\n",
      " [  5 151   0   0   0   0   2  12   1   0]\n",
      " [ 10   0  74   0   0   1   5  12   2   0]\n",
      " [  1   0   0 127   0   0   0   0   1   0]\n",
      " [  1   0   0   0 160   0   0   0   0   0]\n",
      " [  0   0   2   0   0 143   0   0   0   0]\n",
      " [  4   0   6   1   1   0 139   2   0   0]\n",
      " [  0   0   0   0   0   0   0 167   0   0]\n",
      " [  0   0   2   3   0   0   3   0 137   6]\n",
      " [  3   0   2   0   0   0   0   2   0 128]]\n",
      "train...\n"
     ]
    },
    {
     "name": "stderr",
     "output_type": "stream",
     "text": [
      "E:\\Anacondaa\\lib\\site-packages\\ipykernel_launcher.py:11: DataConversionWarning: A column-vector y was passed when a 1d array was expected. Please change the shape of y to (n_samples, ), for example using ravel().\n",
      "  # This is added back by InteractiveShellApp.init_path()\n"
     ]
    },
    {
     "name": "stdout",
     "output_type": "stream",
     "text": [
      "test...\n",
      "accurary...\n",
      "              precision    recall  f1-score   support\n",
      "\n",
      "           1       0.84      0.63      0.72       162\n",
      "           2       0.91      0.80      0.85       139\n",
      "           3       0.85      0.79      0.82       133\n",
      "           4       0.98      1.00      0.99       167\n",
      "           5       0.98      0.99      0.98       139\n",
      "           6       0.98      0.98      0.98       126\n",
      "           7       0.94      0.92      0.93       145\n",
      "           8       0.70      1.00      0.83       158\n",
      "           9       0.93      0.91      0.92       150\n",
      "          10       0.93      0.96      0.95       138\n",
      "\n",
      "   micro avg       0.90      0.90      0.90      1457\n",
      "   macro avg       0.91      0.90      0.90      1457\n",
      "weighted avg       0.90      0.90      0.89      1457\n",
      "\n",
      "0.8956760466712422\n",
      "Confusion matrix, without normalization\n",
      "\n",
      "[[102   8   9   0   0   0   3  31   4   5]\n",
      " [  4 111   2   0   0   0   2  19   0   1]\n",
      " [ 10   1 105   0   1   1   1  12   2   0]\n",
      " [  0   0   0 167   0   0   0   0   0   0]\n",
      " [  1   0   1   0 137   0   0   0   0   0]\n",
      " [  0   0   2   0   1 123   0   0   0   0]\n",
      " [  2   1   4   0   0   1 133   1   3   0]\n",
      " [  0   0   0   0   0   0   0 158   0   0]\n",
      " [  1   1   0   3   1   0   2   2 136   4]\n",
      " [  2   0   0   0   0   0   0   2   1 133]]\n",
      "train...\n"
     ]
    },
    {
     "name": "stderr",
     "output_type": "stream",
     "text": [
      "E:\\Anacondaa\\lib\\site-packages\\ipykernel_launcher.py:11: DataConversionWarning: A column-vector y was passed when a 1d array was expected. Please change the shape of y to (n_samples, ), for example using ravel().\n",
      "  # This is added back by InteractiveShellApp.init_path()\n"
     ]
    },
    {
     "name": "stdout",
     "output_type": "stream",
     "text": [
      "test...\n",
      "accurary...\n",
      "              precision    recall  f1-score   support\n",
      "\n",
      "           1       0.88      0.66      0.75       160\n",
      "           2       0.96      0.85      0.90       162\n",
      "           3       0.85      0.78      0.82        93\n",
      "           4       0.97      1.00      0.99       148\n",
      "           5       0.99      1.00      0.99       132\n",
      "           6       0.98      0.99      0.99       151\n",
      "           7       0.97      0.92      0.95       158\n",
      "           8       0.68      1.00      0.81       147\n",
      "           9       0.94      0.88      0.91       160\n",
      "          10       0.91      0.95      0.93       146\n",
      "\n",
      "   micro avg       0.90      0.90      0.90      1457\n",
      "   macro avg       0.91      0.90      0.90      1457\n",
      "weighted avg       0.92      0.90      0.90      1457\n",
      "\n",
      "0.9045984900480439\n",
      "Confusion matrix, without normalization\n",
      "\n",
      "[[105   3   5   0   1   1   0  33   3   9]\n",
      " [  4 138   3   0   0   0   0  17   0   0]\n",
      " [  3   0  73   0   0   0   1  11   4   1]\n",
      " [  0   0   0 148   0   0   0   0   0   0]\n",
      " [  0   0   0   0 132   0   0   0   0   0]\n",
      " [  0   0   0   0   1 150   0   0   0   0]\n",
      " [  4   0   4   0   0   0 146   2   2   0]\n",
      " [  0   0   0   0   0   0   0 147   0   0]\n",
      " [  2   2   1   4   0   1   3   3 140   4]\n",
      " [  2   1   0   0   0   1   0   3   0 139]]\n",
      "train...\n"
     ]
    },
    {
     "name": "stderr",
     "output_type": "stream",
     "text": [
      "E:\\Anacondaa\\lib\\site-packages\\ipykernel_launcher.py:11: DataConversionWarning: A column-vector y was passed when a 1d array was expected. Please change the shape of y to (n_samples, ), for example using ravel().\n",
      "  # This is added back by InteractiveShellApp.init_path()\n"
     ]
    },
    {
     "name": "stdout",
     "output_type": "stream",
     "text": [
      "test...\n",
      "accurary...\n",
      "              precision    recall  f1-score   support\n",
      "\n",
      "           1       0.48      0.81      0.60       137\n",
      "           2       0.96      0.85      0.90       154\n",
      "           3       0.84      0.77      0.80       120\n",
      "           4       0.99      0.99      0.99       146\n",
      "           5       0.99      0.99      0.99       140\n",
      "           6       1.00      1.00      1.00       154\n",
      "           7       0.94      0.92      0.93       165\n",
      "           8       0.98      0.49      0.66       126\n",
      "           9       0.93      0.88      0.90       165\n",
      "          10       0.92      0.96      0.94       150\n",
      "\n",
      "   micro avg       0.88      0.88      0.88      1457\n",
      "   macro avg       0.90      0.87      0.87      1457\n",
      "weighted avg       0.91      0.88      0.88      1457\n",
      "\n",
      "0.8750857927247769\n",
      "Confusion matrix, without normalization\n",
      "\n",
      "[[111   3   9   0   1   0   4   1   4   4]\n",
      " [ 18 131   3   0   0   0   1   0   0   1]\n",
      " [ 18   2  92   0   0   0   3   0   4   1]\n",
      " [  0   0   0 145   0   0   1   0   0   0]\n",
      " [  1   0   0   0 139   0   0   0   0   0]\n",
      " [  0   0   0   0   0 154   0   0   0   0]\n",
      " [  6   0   2   1   1   0 152   0   2   1]\n",
      " [ 64   0   0   0   0   0   0  62   0   0]\n",
      " [ 10   1   1   1   0   0   1   0 145   6]\n",
      " [  3   0   2   0   0   0   0   0   1 144]]\n",
      "train...\n"
     ]
    },
    {
     "name": "stderr",
     "output_type": "stream",
     "text": [
      "E:\\Anacondaa\\lib\\site-packages\\ipykernel_launcher.py:11: DataConversionWarning: A column-vector y was passed when a 1d array was expected. Please change the shape of y to (n_samples, ), for example using ravel().\n",
      "  # This is added back by InteractiveShellApp.init_path()\n"
     ]
    },
    {
     "name": "stdout",
     "output_type": "stream",
     "text": [
      "test...\n",
      "accurary...\n",
      "              precision    recall  f1-score   support\n",
      "\n",
      "           1       0.78      0.65      0.71       161\n",
      "           2       0.92      0.86      0.89       138\n",
      "           3       0.38      0.82      0.52       114\n",
      "           4       0.99      1.00      1.00       134\n",
      "           5       0.99      0.99      0.99       169\n",
      "           6       1.00      0.99      0.99       146\n",
      "           7       0.94      0.92      0.93       139\n",
      "           8       0.94      0.46      0.62       166\n",
      "           9       0.95      0.88      0.91       148\n",
      "          10       0.92      0.94      0.93       142\n",
      "\n",
      "   micro avg       0.84      0.84      0.84      1457\n",
      "   macro avg       0.88      0.85      0.85      1457\n",
      "weighted avg       0.89      0.84      0.85      1457\n",
      "\n",
      "0.8428277282086479\n",
      "Confusion matrix, without normalization\n",
      "\n",
      "[[104   6  40   0   1   0   4   2   1   3]\n",
      " [  6 118  13   0   0   0   0   1   0   0]\n",
      " [ 12   1  93   0   0   0   1   2   1   4]\n",
      " [  0   0   0 134   0   0   0   0   0   0]\n",
      " [  0   0   0   0 168   0   0   0   1   0]\n",
      " [  0   0   1   0   0 144   0   0   0   1]\n",
      " [  5   0   5   0   0   0 128   0   1   0]\n",
      " [  0   1  89   0   0   0   0  76   0   0]\n",
      " [  5   1   3   1   1   0   3   0 130   4]\n",
      " [  2   1   3   0   0   0   0   0   3 133]]\n",
      "train...\n"
     ]
    },
    {
     "name": "stderr",
     "output_type": "stream",
     "text": [
      "E:\\Anacondaa\\lib\\site-packages\\ipykernel_launcher.py:11: DataConversionWarning: A column-vector y was passed when a 1d array was expected. Please change the shape of y to (n_samples, ), for example using ravel().\n",
      "  # This is added back by InteractiveShellApp.init_path()\n"
     ]
    },
    {
     "name": "stdout",
     "output_type": "stream",
     "text": [
      "test...\n",
      "accurary...\n",
      "              precision    recall  f1-score   support\n",
      "\n",
      "           1       0.49      0.85      0.62       144\n",
      "           2       0.95      0.84      0.89       148\n",
      "           3       0.90      0.77      0.83       127\n",
      "           4       0.98      1.00      0.99       136\n",
      "           5       0.99      1.00      1.00       157\n",
      "           6       0.99      0.99      0.99       146\n",
      "           7       0.94      0.90      0.92       150\n",
      "           8       0.94      0.50      0.66       153\n",
      "           9       0.94      0.94      0.94       153\n",
      "          10       0.96      0.95      0.95       143\n",
      "\n",
      "   micro avg       0.88      0.88      0.88      1457\n",
      "   macro avg       0.91      0.88      0.88      1457\n",
      "weighted avg       0.91      0.88      0.88      1457\n",
      "\n",
      "0.8750857927247769\n",
      "Confusion matrix, without normalization\n",
      "\n",
      "[[123   5   7   0   0   0   1   2   3   3]\n",
      " [ 19 124   1   0   0   0   2   1   0   1]\n",
      " [ 18   1  98   0   0   0   2   2   4   2]\n",
      " [  0   0   0 136   0   0   0   0   0   0]\n",
      " [  0   0   0   0 157   0   0   0   0   0]\n",
      " [  0   0   0   0   1 145   0   0   0   0]\n",
      " [  7   1   2   2   0   0 135   0   3   0]\n",
      " [ 76   0   0   0   0   0   0  77   0   0]\n",
      " [  3   0   0   1   0   1   4   0 144   0]\n",
      " [  5   0   1   0   0   1   0   0   0 136]]\n",
      "train...\n"
     ]
    },
    {
     "name": "stderr",
     "output_type": "stream",
     "text": [
      "E:\\Anacondaa\\lib\\site-packages\\ipykernel_launcher.py:11: DataConversionWarning: A column-vector y was passed when a 1d array was expected. Please change the shape of y to (n_samples, ), for example using ravel().\n",
      "  # This is added back by InteractiveShellApp.init_path()\n"
     ]
    },
    {
     "name": "stdout",
     "output_type": "stream",
     "text": [
      "test...\n",
      "accurary...\n",
      "              precision    recall  f1-score   support\n",
      "\n",
      "           1       0.91      0.66      0.76       151\n",
      "           2       0.94      0.88      0.91       149\n",
      "           3       0.90      0.81      0.85       129\n",
      "           4       0.99      1.00      1.00       130\n",
      "           5       1.00      1.00      1.00       136\n",
      "           6       0.99      1.00      1.00       154\n",
      "           7       0.90      0.95      0.92       152\n",
      "           8       0.74      1.00      0.85       151\n",
      "           9       0.93      0.90      0.91       159\n",
      "          10       0.89      0.92      0.91       146\n",
      "\n",
      "   micro avg       0.91      0.91      0.91      1457\n",
      "   macro avg       0.92      0.91      0.91      1457\n",
      "weighted avg       0.92      0.91      0.91      1457\n",
      "\n",
      "0.911461908030199\n",
      "Confusion matrix, without normalization\n",
      "\n",
      "[[ 99   5   7   0   0   0   4  23   6   7]\n",
      " [  0 131   4   0   0   0   1  12   1   0]\n",
      " [  2   3 105   0   0   1   8   8   0   2]\n",
      " [  0   0   0 130   0   0   0   0   0   0]\n",
      " [  0   0   0   0 136   0   0   0   0   0]\n",
      " [  0   0   0   0   0 154   0   0   0   0]\n",
      " [  0   0   1   0   0   0 144   5   2   0]\n",
      " [  0   0   0   0   0   0   0 151   0   0]\n",
      " [  3   0   0   1   0   0   2   3 143   7]\n",
      " [  5   0   0   0   0   0   1   3   2 135]]\n",
      "train...\n"
     ]
    },
    {
     "name": "stderr",
     "output_type": "stream",
     "text": [
      "E:\\Anacondaa\\lib\\site-packages\\ipykernel_launcher.py:11: DataConversionWarning: A column-vector y was passed when a 1d array was expected. Please change the shape of y to (n_samples, ), for example using ravel().\n",
      "  # This is added back by InteractiveShellApp.init_path()\n"
     ]
    },
    {
     "name": "stdout",
     "output_type": "stream",
     "text": [
      "test...\n",
      "accurary...\n",
      "              precision    recall  f1-score   support\n",
      "\n",
      "           1       0.47      0.83      0.60       151\n",
      "           2       0.96      0.78      0.86       160\n",
      "           3       0.86      0.72      0.78       109\n",
      "           4       0.99      0.99      0.99       136\n",
      "           5       0.99      1.00      1.00       155\n",
      "           6       0.99      0.98      0.99       138\n",
      "           7       0.91      0.92      0.91       145\n",
      "           8       0.97      0.51      0.66       166\n",
      "           9       0.94      0.95      0.95       137\n",
      "          10       0.91      0.96      0.93       160\n",
      "\n",
      "   micro avg       0.86      0.86      0.86      1457\n",
      "   macro avg       0.90      0.86      0.87      1457\n",
      "weighted avg       0.90      0.86      0.86      1457\n",
      "\n",
      "0.8599862731640356\n",
      "Confusion matrix, without normalization\n",
      "\n",
      "[[125   3   6   1   1   0   7   0   2   6]\n",
      " [ 32 124   2   0   0   0   0   1   0   1]\n",
      " [ 17   1  78   0   0   0   5   1   3   4]\n",
      " [  0   0   0 135   0   0   1   0   0   0]\n",
      " [  0   0   0   0 155   0   0   0   0   0]\n",
      " [  0   0   1   0   0 135   0   0   0   2]\n",
      " [  5   1   1   0   0   1 134   0   3   0]\n",
      " [ 82   0   0   0   0   0   0  84   0   0]\n",
      " [  3   0   0   1   0   0   1   0 130   2]\n",
      " [  3   0   3   0   0   0   0   1   0 153]]\n"
     ]
    }
   ],
   "source": [
    "# 进行十次KNN测试\n",
    "for i in range(N):\n",
    "    # 以10%的比例进行交叉验证\n",
    "    # X_train, X_test, y_train, y_test = cross_validation.train_test_split(subfeatures, features_labels, test_size=0.1)\n",
    "    X_train, X_test, y_train, y_test = train_test_split(subfeatures, labels, test_size=0.1)\n",
    "\n",
    "    # 进行训练\n",
    "    print('train...')\n",
    "    # 进行KNN训练,距离为1\n",
    "    neigh = KNeighborsClassifier(n_neighbors=1)\n",
    "    neigh.fit(X_train, y_train)\n",
    "\n",
    "    # 预试\n",
    "    print('test...')\n",
    "    c_test = neigh.predict(X_test)\n",
    "\n",
    "    # print(y_test)\n",
    "    # print(c_test)\n",
    "\n",
    "    # 计算预测划分准确率\n",
    "    print('accurary...')\n",
    "    score = neigh.score(X_test, y_test)\n",
    "    print(classification_report(y_test,c_test))\n",
    "    avgscore = avgscore + score\n",
    "    recallscore = recallscore + recall_score(y_test,c_test,average=\"macro\")\n",
    "    precisionscore = precisionscore + precision_score(y_test,c_test,average=\"macro\")\n",
    "    print(score)\n",
    "\n",
    "    # 通过混淆矩阵进行结果标示\n",
    "    cm = confusion_matrix(y_test, c_test)\n",
    "    np.set_printoptions(threshold=10000)\n",
    "    np.set_printoptions(precision=2)\n",
    "    print('Confusion matrix, without normalization\\n')\n",
    "    print(str(cm))"
   ]
  },
  {
   "cell_type": "code",
   "execution_count": 34,
   "metadata": {},
   "outputs": [
    {
     "name": "stdout",
     "output_type": "stream",
     "text": [
      "avgscore....\n",
      "0.885312285518188\n",
      "False positive rate\n",
      "0.09752798198723078\n",
      "false negative rate\n",
      "0.11553190395691859\n"
     ]
    }
   ],
   "source": [
    "# 输出N次的平均准确率\n",
    "avgscore = avgscore / N\n",
    "recallscore = recallscore / N\n",
    "precisionscore = precisionscore / N\n",
    "\n",
    "print('avgscore....')\n",
    "print(avgscore)\n",
    "print('False positive rate')\n",
    "print(1-precisionscore)\n",
    "print('false negative rate')\n",
    "print(1-recallscore)"
   ]
  },
  {
   "cell_type": "code",
   "execution_count": null,
   "metadata": {},
   "outputs": [],
   "source": []
  },
  {
   "cell_type": "code",
   "execution_count": null,
   "metadata": {},
   "outputs": [],
   "source": []
  }
 ],
 "metadata": {
  "kernelspec": {
   "display_name": "Python 3",
   "language": "python",
   "name": "python3"
  },
  "language_info": {
   "codemirror_mode": {
    "name": "ipython",
    "version": 3
   },
   "file_extension": ".py",
   "mimetype": "text/x-python",
   "name": "python",
   "nbconvert_exporter": "python",
   "pygments_lexer": "ipython3",
   "version": "3.7.3"
  }
 },
 "nbformat": 4,
 "nbformat_minor": 2
}
