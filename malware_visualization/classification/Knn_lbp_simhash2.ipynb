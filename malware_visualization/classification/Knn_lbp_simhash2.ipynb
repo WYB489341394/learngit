{
 "cells": [
  {
   "cell_type": "code",
   "execution_count": 13,
   "metadata": {},
   "outputs": [
    {
     "data": {
      "text/plain": [
       "' Summary of the file.\\n\\n    功能：\\n        读取特征值文件和标签文件，通过交叉验证获得训练集和测试集，以KNN方法划分并获得准确率，通过混淆矩阵标示结果。\\n\\n    输出：\\n        结果的混淆矩阵，每次划分的准确率，十次的平均准确率\\n'"
      ]
     },
     "execution_count": 13,
     "metadata": {},
     "output_type": "execute_result"
    }
   ],
   "source": [
    "from sklearn.neighbors import KNeighborsClassifier\n",
    "from sklearn import model_selection\n",
    "from sklearn.model_selection import train_test_split\n",
    "from sklearn.metrics import confusion_matrix, classification_report, recall_score, precision_score\n",
    "from collections import Counter\n",
    "import pandas as pd\n",
    "import numpy as np\n",
    "''' Summary of the file.\n",
    "\n",
    "    功能：\n",
    "        读取特征值文件和标签文件，通过交叉验证获得训练集和测试集，以KNN方法划分并获得准确率，通过混淆矩阵标示结果。\n",
    "\n",
    "    输出：\n",
    "        结果的混淆矩阵，每次划分的准确率，十次的平均准确率\n",
    "'''\n",
    "\n"
   ]
  },
  {
   "cell_type": "code",
   "execution_count": 14,
   "metadata": {},
   "outputs": [
    {
     "data": {
      "text/plain": [
       "\"\\n# # GIST特征值\\nsubfeatures=pd.read_csv(r'E:\\test\\\\process_gist\\\\gist_f_train_full.csv',header=None)\\nlabels = pd.read_csv(r'E:\\test\\\\process_gist\\\\CNO_full.txt',header=None)\\n\""
      ]
     },
     "execution_count": 14,
     "metadata": {},
     "output_type": "execute_result"
    }
   ],
   "source": [
    "# 实验室的15000条恶意样本，分为十个家族\n",
    "# # LBP特征值\n",
    "subfeatures=pd.read_csv(r'F:\\virtus_test\\Simhash_LBPv2\\feature_train_full.csv',header=None)\n",
    "labels = pd.read_csv(r'F:\\virtus_test\\Simhash_LBPv2\\CNO_full.txt',header=None)\n",
    "\n",
    "'''\n",
    "# # GIST特征值\n",
    "subfeatures=pd.read_csv(r'E:\\test\\process_gist\\gist_f_train_full.csv',header=None)\n",
    "labels = pd.read_csv(r'E:\\test\\process_gist\\CNO_full.txt',header=None)\n",
    "'''\n",
    "# # text段代码提取二进制代码，生成图像的LBP特征\n",
    "# subfeatures=pd.read_csv('/home/stack/Data/Output/lbp_only_text/feature_train_full.csv',header=None)\n",
    "# labels = pd.read_csv('/home/stack/Data/Output/lbp_only_text/CNO_full.txt',header=None)\n",
    "\n",
    "# text段 GIST特征\n",
    "##subfeatures=pd.read_csv(r'E:\\test\\process_gist\\gist_f_train_full.csv',header=None)\n",
    "##labels = pd.read_csv(r'E:\\test\\process_gist\\CNO_full.txt',header=None)\n"
   ]
  },
  {
   "cell_type": "code",
   "execution_count": 15,
   "metadata": {},
   "outputs": [],
   "source": [
    "# # 删除数据量较小的数据\n",
    "# result = pd.concat([subfeatures, labels], axis=1,ignore_index=True)\n",
    "# '''\n",
    "# print(result)\n",
    "# print(result.apply(lambda x: x.sum(), axis=1))\n",
    "# print(labels.apply(lambda x: x.sum(), axis=1))\n",
    "# print(labels.apply(lambda x: x.sum(), axis=1)==result.apply(lambda x: x.sum(), axis=1))\n",
    "# '''\n",
    "# list=[]\n",
    "# Q = result.apply(lambda x: x.sum(), axis=1)\n",
    "# # W = labels.apply(lambda x: x.sum(), axis=1)\n",
    "# for t in range(len(result)):\n",
    "#     if Q[t] <= 2.5:\n",
    "#         list.append(t)\n",
    "# # print(list,len(list))  #打印出较小数据量的标号和个数\n",
    "# result=result.drop(labels=list,axis=0)\n",
    "\n",
    "# subfeatures=result.iloc[:,:-1]\n",
    "# labels=result.iloc[:,-1]\n",
    "# print (subfeatures)"
   ]
  },
  {
   "cell_type": "code",
   "execution_count": 16,
   "metadata": {},
   "outputs": [],
   "source": [
    "#subfeatures.fillna('0')\n",
    "\n",
    "\n",
    "# 平均准确率归零\n",
    "avgscore = 0\n",
    "recallscore = 0\n",
    "precisionscore = 0\n",
    "N = 10\n",
    "\n",
    "\n"
   ]
  },
  {
   "cell_type": "code",
   "execution_count": 17,
   "metadata": {},
   "outputs": [
    {
     "name": "stdout",
     "output_type": "stream",
     "text": [
      "train...\n"
     ]
    },
    {
     "name": "stderr",
     "output_type": "stream",
     "text": [
      "E:\\Anacondaa\\lib\\site-packages\\ipykernel_launcher.py:11: DataConversionWarning: A column-vector y was passed when a 1d array was expected. Please change the shape of y to (n_samples, ), for example using ravel().\n",
      "  # This is added back by InteractiveShellApp.init_path()\n"
     ]
    },
    {
     "name": "stdout",
     "output_type": "stream",
     "text": [
      "test...\n",
      "accurary...\n",
      "              precision    recall  f1-score   support\n",
      "\n",
      "           1       0.59      0.30      0.40       137\n",
      "           2       0.86      0.73      0.79       165\n",
      "           3       0.88      0.54      0.67       147\n",
      "           4       0.99      0.95      0.97       139\n",
      "           5       0.99      0.92      0.95       164\n",
      "           6       0.90      1.00      0.94       146\n",
      "           7       0.94      0.92      0.93       161\n",
      "           8       0.48      1.00      0.65       162\n",
      "           9       0.91      0.88      0.90       138\n",
      "          10       0.90      0.74      0.81       116\n",
      "\n",
      "   micro avg       0.81      0.81      0.81      1475\n",
      "   macro avg       0.84      0.80      0.80      1475\n",
      "weighted avg       0.84      0.81      0.80      1475\n",
      "\n",
      "0.8054237288135593\n",
      "Confusion matrix, without normalization\n",
      "\n",
      "[[ 41   9   3   2   0   3   0  69   2   8]\n",
      " [  6 121   2   0   0   0   4  27   5   0]\n",
      " [ 12   6  79   0   0   3   1  44   1   1]\n",
      " [  1   0   0 132   0   0   0   6   0   0]\n",
      " [  0   0   0   0 151  11   0   2   0   0]\n",
      " [  0   0   0   0   0 146   0   0   0   0]\n",
      " [  2   2   1   0   0   0 148   4   4   0]\n",
      " [  0   0   0   0   0   0   0 162   0   0]\n",
      " [  7   2   1   0   0   0   4   1 122   1]\n",
      " [  1   0   4   0   2   0   0  23   0  86]]\n",
      "train...\n"
     ]
    },
    {
     "name": "stderr",
     "output_type": "stream",
     "text": [
      "E:\\Anacondaa\\lib\\site-packages\\ipykernel_launcher.py:11: DataConversionWarning: A column-vector y was passed when a 1d array was expected. Please change the shape of y to (n_samples, ), for example using ravel().\n",
      "  # This is added back by InteractiveShellApp.init_path()\n"
     ]
    },
    {
     "name": "stdout",
     "output_type": "stream",
     "text": [
      "test...\n",
      "accurary...\n",
      "              precision    recall  f1-score   support\n",
      "\n",
      "           1       0.66      0.28      0.40       130\n",
      "           2       0.92      0.87      0.89       132\n",
      "           3       0.86      0.52      0.65       151\n",
      "           4       0.99      0.97      0.98       150\n",
      "           5       0.93      0.91      0.92       160\n",
      "           6       0.90      0.93      0.91       162\n",
      "           7       0.33      0.91      0.48       151\n",
      "           8       0.96      0.34      0.50       160\n",
      "           9       0.89      0.88      0.89       144\n",
      "          10       0.92      0.80      0.85       135\n",
      "\n",
      "   micro avg       0.74      0.74      0.74      1475\n",
      "   macro avg       0.84      0.74      0.75      1475\n",
      "weighted avg       0.84      0.74      0.75      1475\n",
      "\n",
      "0.744406779661017\n",
      "Confusion matrix, without normalization\n",
      "\n",
      "[[ 37   3   4   0   0   1  75   0   3   7]\n",
      " [  2 115   1   0   0   0  12   1   1   0]\n",
      " [  6   2  79   0   0   1  59   0   3   1]\n",
      " [  3   0   0 145   0   0   2   0   0   0]\n",
      " [  0   0   0   0 146  13   1   0   0   0]\n",
      " [  0   0   0   0  11 150   1   0   0   0]\n",
      " [  2   3   0   0   0   0 137   0   7   2]\n",
      " [  0   0   1   0   0   0 105  54   0   0]\n",
      " [  1   2   4   1   0   0   9   0 127   0]\n",
      " [  5   0   3   0   0   2  15   1   1 108]]\n",
      "train...\n"
     ]
    },
    {
     "name": "stderr",
     "output_type": "stream",
     "text": [
      "E:\\Anacondaa\\lib\\site-packages\\ipykernel_launcher.py:11: DataConversionWarning: A column-vector y was passed when a 1d array was expected. Please change the shape of y to (n_samples, ), for example using ravel().\n",
      "  # This is added back by InteractiveShellApp.init_path()\n"
     ]
    },
    {
     "name": "stdout",
     "output_type": "stream",
     "text": [
      "test...\n",
      "accurary...\n",
      "              precision    recall  f1-score   support\n",
      "\n",
      "           1       0.34      0.81      0.48       145\n",
      "           2       0.83      0.76      0.80       130\n",
      "           3       0.79      0.47      0.59       134\n",
      "           4       0.99      0.91      0.95       164\n",
      "           5       0.97      0.90      0.94       154\n",
      "           6       0.90      0.98      0.93       166\n",
      "           7       0.90      0.95      0.92       142\n",
      "           8       0.93      0.29      0.44       146\n",
      "           9       0.90      0.75      0.82       150\n",
      "          10       0.81      0.76      0.78       144\n",
      "\n",
      "   micro avg       0.76      0.76      0.76      1475\n",
      "   macro avg       0.84      0.76      0.76      1475\n",
      "weighted avg       0.84      0.76      0.77      1475\n",
      "\n",
      "0.7647457627118645\n",
      "Confusion matrix, without normalization\n",
      "\n",
      "[[117   6   5   2   1   1   3   2   3   5]\n",
      " [ 27  99   0   0   0   0   0   0   4   0]\n",
      " [ 52   2  63   0   1   4   3   1   4   4]\n",
      " [  1   0   0 149   0   0   0   0   0  14]\n",
      " [  1   1   1   0 139  12   0   0   0   0]\n",
      " [  2   0   0   0   2 162   0   0   0   0]\n",
      " [  3   1   3   0   0   0 135   0   0   0]\n",
      " [104   0   0   0   0   0   0  42   0   0]\n",
      " [ 14   9   4   0   0   0   8   0 113   2]\n",
      " [ 25   1   4   0   0   2   1   0   2 109]]\n",
      "train...\n"
     ]
    },
    {
     "name": "stderr",
     "output_type": "stream",
     "text": [
      "E:\\Anacondaa\\lib\\site-packages\\ipykernel_launcher.py:11: DataConversionWarning: A column-vector y was passed when a 1d array was expected. Please change the shape of y to (n_samples, ), for example using ravel().\n",
      "  # This is added back by InteractiveShellApp.init_path()\n"
     ]
    },
    {
     "name": "stdout",
     "output_type": "stream",
     "text": [
      "test...\n",
      "accurary...\n",
      "              precision    recall  f1-score   support\n",
      "\n",
      "           1       0.34      0.86      0.49       142\n",
      "           2       0.90      0.82      0.86       154\n",
      "           3       0.84      0.53      0.65       152\n",
      "           4       1.00      1.00      1.00       136\n",
      "           5       0.99      0.90      0.94       148\n",
      "           6       0.90      0.97      0.93       157\n",
      "           7       0.93      0.85      0.89       162\n",
      "           8       0.98      0.29      0.45       148\n",
      "           9       0.81      0.85      0.83       133\n",
      "          10       0.95      0.73      0.82       143\n",
      "\n",
      "   micro avg       0.78      0.78      0.78      1475\n",
      "   macro avg       0.86      0.78      0.79      1475\n",
      "weighted avg       0.86      0.78      0.79      1475\n",
      "\n",
      "0.7783050847457628\n",
      "Confusion matrix, without normalization\n",
      "\n",
      "[[122   6   4   0   0   1   0   1   5   3]\n",
      " [ 21 126   4   0   0   0   2   0   1   0]\n",
      " [ 64   2  81   0   0   2   1   0   2   0]\n",
      " [  0   0   0 136   0   0   0   0   0   0]\n",
      " [  1   0   1   0 133  13   0   0   0   0]\n",
      " [  1   0   0   0   2 152   0   0   0   2]\n",
      " [  2   3   1   0   0   0 138   0  18   0]\n",
      " [102   1   0   0   0   0   0  43   1   1]\n",
      " [  7   2   4   0   0   0   7   0 113   0]\n",
      " [ 36   0   2   0   0   1   0   0   0 104]]\n",
      "train...\n"
     ]
    },
    {
     "name": "stderr",
     "output_type": "stream",
     "text": [
      "E:\\Anacondaa\\lib\\site-packages\\ipykernel_launcher.py:11: DataConversionWarning: A column-vector y was passed when a 1d array was expected. Please change the shape of y to (n_samples, ), for example using ravel().\n",
      "  # This is added back by InteractiveShellApp.init_path()\n"
     ]
    },
    {
     "name": "stdout",
     "output_type": "stream",
     "text": [
      "test...\n",
      "accurary...\n",
      "              precision    recall  f1-score   support\n",
      "\n",
      "           1       0.71      0.31      0.43       163\n",
      "           2       0.82      0.79      0.80       154\n",
      "           3       0.77      0.50      0.61       148\n",
      "           4       0.98      0.95      0.97       153\n",
      "           5       0.97      0.85      0.90       140\n",
      "           6       0.86      0.97      0.91       146\n",
      "           7       0.93      0.91      0.92       151\n",
      "           8       0.43      0.95      0.59       152\n",
      "           9       0.92      0.83      0.87       128\n",
      "          10       0.93      0.82      0.87       140\n",
      "\n",
      "   micro avg       0.78      0.78      0.78      1475\n",
      "   macro avg       0.83      0.79      0.79      1475\n",
      "weighted avg       0.83      0.78      0.78      1475\n",
      "\n",
      "0.7823728813559322\n",
      "Confusion matrix, without normalization\n",
      "\n",
      "[[ 50   7   9   3   0   1   5  80   2   6]\n",
      " [  3 121   3   0   0   0   0  22   5   0]\n",
      " [  2   7  74   0   0   4   2  56   0   3]\n",
      " [  0   0   0 146   0   0   0   7   0   0]\n",
      " [  0   0   1   0 119  18   0   2   0   0]\n",
      " [  0   0   0   0   3 141   0   2   0   0]\n",
      " [  3   2   4   0   0   0 137   3   2   0]\n",
      " [  0   7   0   0   0   0   0 145   0   0]\n",
      " [  4   4   3   0   0   0   4   7 106   0]\n",
      " [  8   0   2   0   1   0   0  14   0 115]]\n",
      "train...\n"
     ]
    },
    {
     "name": "stderr",
     "output_type": "stream",
     "text": [
      "E:\\Anacondaa\\lib\\site-packages\\ipykernel_launcher.py:11: DataConversionWarning: A column-vector y was passed when a 1d array was expected. Please change the shape of y to (n_samples, ), for example using ravel().\n",
      "  # This is added back by InteractiveShellApp.init_path()\n"
     ]
    },
    {
     "name": "stdout",
     "output_type": "stream",
     "text": [
      "test...\n",
      "accurary...\n",
      "              precision    recall  f1-score   support\n",
      "\n",
      "           1       0.64      0.37      0.47       154\n",
      "           2       0.92      0.79      0.85       151\n",
      "           3       0.81      0.50      0.61       143\n",
      "           4       1.00      0.98      0.99       124\n",
      "           5       0.99      0.89      0.94       157\n",
      "           6       0.88      0.99      0.93       156\n",
      "           7       0.88      0.76      0.82       139\n",
      "           8       0.94      0.32      0.47       145\n",
      "           9       0.78      0.83      0.81       148\n",
      "          10       0.35      0.89      0.50       158\n",
      "\n",
      "   micro avg       0.73      0.73      0.73      1475\n",
      "   macro avg       0.82      0.73      0.74      1475\n",
      "weighted avg       0.81      0.73      0.74      1475\n",
      "\n",
      "0.7308474576271187\n",
      "Confusion matrix, without normalization\n",
      "\n",
      "[[ 57   3   3   0   1   0   2   1   5  82]\n",
      " [  3 120   3   0   0   0   3   0   3  19]\n",
      " [  7   3  71   0   0   3   4   2   4  49]\n",
      " [  0   0   0 121   0   0   0   0   0   3]\n",
      " [  0   0   0   0 139  18   0   0   0   0]\n",
      " [  1   0   0   0   0 154   0   0   0   1]\n",
      " [  5   0   2   0   0   0 106   0  22   4]\n",
      " [  0   0   0   0   0   0   0  46   0  99]\n",
      " [  3   4   6   0   0   0   5   0 123   7]\n",
      " [ 13   1   3   0   0   0   0   0   0 141]]\n",
      "train...\n"
     ]
    },
    {
     "name": "stderr",
     "output_type": "stream",
     "text": [
      "E:\\Anacondaa\\lib\\site-packages\\ipykernel_launcher.py:11: DataConversionWarning: A column-vector y was passed when a 1d array was expected. Please change the shape of y to (n_samples, ), for example using ravel().\n",
      "  # This is added back by InteractiveShellApp.init_path()\n"
     ]
    },
    {
     "name": "stdout",
     "output_type": "stream",
     "text": [
      "test...\n",
      "accurary...\n",
      "              precision    recall  f1-score   support\n",
      "\n",
      "           1       0.36      0.82      0.50       161\n",
      "           2       0.89      0.78      0.83       135\n",
      "           3       0.85      0.58      0.69       161\n",
      "           4       0.99      0.93      0.96       158\n",
      "           5       1.00      0.88      0.94       140\n",
      "           6       0.86      0.99      0.92       146\n",
      "           7       0.89      0.88      0.89       151\n",
      "           8       0.98      0.30      0.46       135\n",
      "           9       0.88      0.81      0.84       139\n",
      "          10       0.92      0.79      0.85       149\n",
      "\n",
      "   micro avg       0.78      0.78      0.78      1475\n",
      "   macro avg       0.86      0.78      0.79      1475\n",
      "weighted avg       0.86      0.78      0.79      1475\n",
      "\n",
      "0.7783050847457628\n",
      "Confusion matrix, without normalization\n",
      "\n",
      "[[132   5   7   2   0   2   0   0   5   8]\n",
      " [ 22 105   1   0   0   0   3   1   3   0]\n",
      " [ 58   1  93   0   0   3   4   0   2   0]\n",
      " [ 11   0   0 147   0   0   0   0   0   0]\n",
      " [  1   1   0   0 123  15   0   0   0   0]\n",
      " [  1   0   0   0   0 145   0   0   0   0]\n",
      " [  7   2   4   0   0   0 133   0   5   0]\n",
      " [ 94   0   0   0   0   0   0  41   0   0]\n",
      " [ 10   3   2   0   0   1   9   0 112   2]\n",
      " [ 26   1   2   0   0   2   0   0   1 117]]\n",
      "train...\n"
     ]
    },
    {
     "name": "stderr",
     "output_type": "stream",
     "text": [
      "E:\\Anacondaa\\lib\\site-packages\\ipykernel_launcher.py:11: DataConversionWarning: A column-vector y was passed when a 1d array was expected. Please change the shape of y to (n_samples, ), for example using ravel().\n",
      "  # This is added back by InteractiveShellApp.init_path()\n"
     ]
    },
    {
     "name": "stdout",
     "output_type": "stream",
     "text": [
      "test...\n",
      "accurary...\n",
      "              precision    recall  f1-score   support\n",
      "\n",
      "           1       0.70      0.35      0.47       158\n",
      "           2       0.91      0.81      0.86       153\n",
      "           3       0.82      0.58      0.68       150\n",
      "           4       1.00      0.99      1.00       135\n",
      "           5       0.99      0.91      0.95       146\n",
      "           6       0.91      0.98      0.95       150\n",
      "           7       0.92      0.86      0.88       152\n",
      "           8       0.51      0.99      0.67       175\n",
      "           9       0.91      0.90      0.90       124\n",
      "          10       0.92      0.83      0.87       132\n",
      "\n",
      "   micro avg       0.82      0.82      0.82      1475\n",
      "   macro avg       0.86      0.82      0.82      1475\n",
      "weighted avg       0.85      0.82      0.81      1475\n",
      "\n",
      "0.8169491525423729\n",
      "Confusion matrix, without normalization\n",
      "\n",
      "[[ 56   6   9   0   0   0   1  79   1   6]\n",
      " [  4 124   3   0   0   0   0  18   4   0]\n",
      " [  2   1  87   0   1   3   3  48   2   3]\n",
      " [  0   0   0 134   0   0   0   1   0   0]\n",
      " [  0   0   0   0 133  11   0   2   0   0]\n",
      " [  0   0   1   0   1 147   0   1   0   0]\n",
      " [  8   3   4   0   0   0 130   3   4   0]\n",
      " [  0   1   0   0   0   0   0 174   0   0]\n",
      " [  4   1   0   0   0   0   7   1 111   0]\n",
      " [  6   0   2   0   0   0   1  14   0 109]]\n",
      "train...\n"
     ]
    },
    {
     "name": "stderr",
     "output_type": "stream",
     "text": [
      "E:\\Anacondaa\\lib\\site-packages\\ipykernel_launcher.py:11: DataConversionWarning: A column-vector y was passed when a 1d array was expected. Please change the shape of y to (n_samples, ), for example using ravel().\n",
      "  # This is added back by InteractiveShellApp.init_path()\n"
     ]
    },
    {
     "name": "stdout",
     "output_type": "stream",
     "text": [
      "test...\n",
      "accurary...\n",
      "              precision    recall  f1-score   support\n",
      "\n",
      "           1       0.59      0.24      0.34       161\n",
      "           2       0.87      0.79      0.83       151\n",
      "           3       0.80      0.56      0.66       147\n",
      "           4       0.99      0.99      0.99       148\n",
      "           5       0.99      0.92      0.95       149\n",
      "           6       0.90      0.97      0.94       136\n",
      "           7       0.89      0.91      0.90       164\n",
      "           8       0.45      1.00      0.62       147\n",
      "           9       0.88      0.80      0.84       134\n",
      "          10       0.90      0.82      0.86       138\n",
      "\n",
      "   micro avg       0.79      0.79      0.79      1475\n",
      "   macro avg       0.83      0.80      0.79      1475\n",
      "weighted avg       0.83      0.79      0.79      1475\n",
      "\n",
      "0.7945762711864407\n",
      "Confusion matrix, without normalization\n",
      "\n",
      "[[ 38   5  11   2   0   3   5  85   3   9]\n",
      " [  8 119   2   0   0   0   0  19   3   0]\n",
      " [  6   4  82   0   1   0   4  45   4   1]\n",
      " [  0   0   0 147   0   0   0   1   0   0]\n",
      " [  0   0   0   0 137  11   0   1   0   0]\n",
      " [  2   0   0   0   0 132   0   2   0   0]\n",
      " [  5   2   2   0   0   0 150   2   3   0]\n",
      " [  0   0   0   0   0   0   0 147   0   0]\n",
      " [  2   7   3   0   0   0   9   4 107   2]\n",
      " [  3   0   3   0   0   0   0  18   1 113]]\n",
      "train...\n"
     ]
    },
    {
     "name": "stderr",
     "output_type": "stream",
     "text": [
      "E:\\Anacondaa\\lib\\site-packages\\ipykernel_launcher.py:11: DataConversionWarning: A column-vector y was passed when a 1d array was expected. Please change the shape of y to (n_samples, ), for example using ravel().\n",
      "  # This is added back by InteractiveShellApp.init_path()\n"
     ]
    },
    {
     "name": "stdout",
     "output_type": "stream",
     "text": [
      "test...\n",
      "accurary...\n",
      "              precision    recall  f1-score   support\n",
      "\n",
      "           1       0.63      0.24      0.35       142\n",
      "           2       0.86      0.87      0.87       126\n",
      "           3       0.80      0.48      0.60       147\n",
      "           4       1.00      0.98      0.99       139\n",
      "           5       0.96      0.91      0.94       151\n",
      "           6       0.92      0.97      0.94       158\n",
      "           7       0.90      0.84      0.87       141\n",
      "           8       0.51      0.99      0.67       175\n",
      "           9       0.87      0.85      0.86       156\n",
      "          10       0.88      0.83      0.85       140\n",
      "\n",
      "   micro avg       0.80      0.80      0.80      1475\n",
      "   macro avg       0.83      0.80      0.79      1475\n",
      "weighted avg       0.83      0.80      0.79      1475\n",
      "\n",
      "0.8013559322033899\n",
      "Confusion matrix, without normalization\n",
      "\n",
      "[[ 34   6   7   0   1   1   2  83   0   8]\n",
      " [  4 110   1   0   0   0   1   8   2   0]\n",
      " [  8   6  70   0   0   3   4  49   3   4]\n",
      " [  0   0   0 136   0   0   0   3   0   0]\n",
      " [  0   1   1   0 137   9   0   3   0   0]\n",
      " [  0   0   0   0   4 153   0   1   0   0]\n",
      " [  0   3   2   0   0   0 119   1  15   1]\n",
      " [  0   0   1   0   0   0   0 174   0   0]\n",
      " [  2   2   3   0   0   0   6   7 133   3]\n",
      " [  6   0   3   0   0   0   0  15   0 116]]\n"
     ]
    }
   ],
   "source": [
    "# 进行十次KNN测试\n",
    "for i in range(N):\n",
    "    # 以10%的比例进行交叉验证\n",
    "    # X_train, X_test, y_train, y_test = cross_validation.train_test_split(subfeatures, features_labels, test_size=0.1)\n",
    "    X_train, X_test, y_train, y_test = train_test_split(subfeatures, labels, test_size=0.1)\n",
    "\n",
    "    # 进行训练\n",
    "    print('train...')\n",
    "    # 进行KNN训练,距离为1\n",
    "    neigh = KNeighborsClassifier(n_neighbors=1)\n",
    "    neigh.fit(X_train, y_train)\n",
    "\n",
    "    # 预试\n",
    "    print('test...')\n",
    "    c_test = neigh.predict(X_test)\n",
    "\n",
    "    # print(y_test)\n",
    "    # print(c_test)\n",
    "\n",
    "    # 计算预测划分准确率\n",
    "    print('accurary...')\n",
    "    score = neigh.score(X_test, y_test)\n",
    "    print(classification_report(y_test,c_test))\n",
    "    avgscore = avgscore + score\n",
    "    recallscore = recallscore + recall_score(y_test,c_test,average=\"macro\")\n",
    "    precisionscore = precisionscore + precision_score(y_test,c_test,average=\"macro\")\n",
    "    print(score)\n",
    "\n",
    "    # 通过混淆矩阵进行结果标示\n",
    "    cm = confusion_matrix(y_test, c_test)\n",
    "    np.set_printoptions(threshold=10000)\n",
    "    np.set_printoptions(precision=2)\n",
    "    print('Confusion matrix, without normalization\\n')\n",
    "    print(str(cm))"
   ]
  },
  {
   "cell_type": "code",
   "execution_count": 18,
   "metadata": {},
   "outputs": [
    {
     "name": "stdout",
     "output_type": "stream",
     "text": [
      "avgscore....\n",
      "0.7797288135593221\n",
      "False positive rate\n",
      "0.15913633070241373\n",
      "false negative rate\n",
      "0.2213616546916357\n"
     ]
    }
   ],
   "source": [
    "# 输出N次的平均准确率\n",
    "avgscore = avgscore / N\n",
    "recallscore = recallscore / N\n",
    "precisionscore = precisionscore / N\n",
    "\n",
    "print('avgscore....')\n",
    "print(avgscore)\n",
    "print('False positive rate')\n",
    "print(1-precisionscore)\n",
    "print('false negative rate')\n",
    "print(1-recallscore)"
   ]
  },
  {
   "cell_type": "code",
   "execution_count": null,
   "metadata": {},
   "outputs": [],
   "source": []
  },
  {
   "cell_type": "code",
   "execution_count": null,
   "metadata": {},
   "outputs": [],
   "source": []
  }
 ],
 "metadata": {
  "kernelspec": {
   "display_name": "Python 3",
   "language": "python",
   "name": "python3"
  },
  "language_info": {
   "codemirror_mode": {
    "name": "ipython",
    "version": 3
   },
   "file_extension": ".py",
   "mimetype": "text/x-python",
   "name": "python",
   "nbconvert_exporter": "python",
   "pygments_lexer": "ipython3",
   "version": "3.7.3"
  }
 },
 "nbformat": 4,
 "nbformat_minor": 2
}
